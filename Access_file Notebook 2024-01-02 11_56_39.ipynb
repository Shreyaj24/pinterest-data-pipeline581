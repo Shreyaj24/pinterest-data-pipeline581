{
 "cells": [
  {
   "cell_type": "code",
   "execution_count": 0,
   "metadata": {
    "application/vnd.databricks.v1+cell": {
     "cellMetadata": {
      "byteLimit": 2048000,
      "rowLimit": 10000
     },
     "inputWidgets": {},
     "nuid": "5c057f9b-bb47-4517-aa05-3d7c0bec3348",
     "showTitle": false,
     "title": ""
    }
   },
   "outputs": [
    {
     "output_type": "display_data",
     "data": {
      "text/html": [
       "<style scoped>\n",
       "  .ansiout {\n",
       "    display: block;\n",
       "    unicode-bidi: embed;\n",
       "    white-space: pre-wrap;\n",
       "    word-wrap: break-word;\n",
       "    word-break: break-all;\n",
       "    font-family: \"Menlo\", \"Monaco\", \"Consolas\", \"Ubuntu Mono\", \"Source Code Pro\", monospace;\n",
       "    font-size: 13px;\n",
       "    color: #555;\n",
       "    margin-left: 4px;\n",
       "    line-height: 19px;\n",
       "  }\n",
       "</style>\n",
       "<div class=\"ansiout\">Out[2]: [FileInfo(path=&#39;dbfs:/FileStore/tables/0ed442ca38ad_user_table/&#39;, name=&#39;0ed442ca38ad_user_table/&#39;, size=0, modificationTime=1704198630004),\n",
       " FileInfo(path=&#39;dbfs:/FileStore/tables/authentication.csv/&#39;, name=&#39;authentication.csv/&#39;, size=0, modificationTime=1704198630004),\n",
       " FileInfo(path=&#39;dbfs:/FileStore/tables/authentication_credentials-1.csv&#39;, name=&#39;authentication_credentials-1.csv&#39;, size=97, modificationTime=1702911405000),\n",
       " FileInfo(path=&#39;dbfs:/FileStore/tables/authentication_credentials-2.csv&#39;, name=&#39;authentication_credentials-2.csv&#39;, size=97, modificationTime=1702911558000),\n",
       " FileInfo(path=&#39;dbfs:/FileStore/tables/authentication_credentials-3.csv&#39;, name=&#39;authentication_credentials-3.csv&#39;, size=87, modificationTime=1703678451000),\n",
       " FileInfo(path=&#39;dbfs:/FileStore/tables/authentication_credentials.csv/&#39;, name=&#39;authentication_credentials.csv/&#39;, size=0, modificationTime=1704198630004),\n",
       " FileInfo(path=&#39;dbfs:/FileStore/tables/csv_files/&#39;, name=&#39;csv_files/&#39;, size=0, modificationTime=1704198630004),\n",
       " FileInfo(path=&#39;dbfs:/FileStore/tables/date_details.json&#39;, name=&#39;date_details.json&#39;, size=284166, modificationTime=1703945051000),\n",
       " FileInfo(path=&#39;dbfs:/FileStore/tables/downloaded_file.json&#39;, name=&#39;downloaded_file.json&#39;, size=48, modificationTime=1703945574000),\n",
       " FileInfo(path=&#39;dbfs:/FileStore/tables/downloaded_file2.json&#39;, name=&#39;downloaded_file2.json&#39;, size=60, modificationTime=1703954387000),\n",
       " FileInfo(path=&#39;dbfs:/FileStore/tables/geo_dirty.csv/&#39;, name=&#39;geo_dirty.csv/&#39;, size=0, modificationTime=1704198630004),\n",
       " FileInfo(path=&#39;dbfs:/FileStore/tables/json_files/&#39;, name=&#39;json_files/&#39;, size=0, modificationTime=1704198630004),\n",
       " FileInfo(path=&#39;dbfs:/FileStore/tables/pin_dirty.csv/&#39;, name=&#39;pin_dirty.csv/&#39;, size=0, modificationTime=1704198630004),\n",
       " FileInfo(path=&#39;dbfs:/FileStore/tables/single_json_file.json&#39;, name=&#39;single_json_file.json&#39;, size=293, modificationTime=1701857903000),\n",
       " FileInfo(path=&#39;dbfs:/FileStore/tables/user_dirty.csv/&#39;, name=&#39;user_dirty.csv/&#39;, size=0, modificationTime=1704198630004)]</div>"
      ]
     },
     "metadata": {
      "application/vnd.databricks.v1+output": {
       "addedWidgets": {},
       "arguments": {},
       "data": "<div class=\"ansiout\">Out[2]: [FileInfo(path=&#39;dbfs:/FileStore/tables/0ed442ca38ad_user_table/&#39;, name=&#39;0ed442ca38ad_user_table/&#39;, size=0, modificationTime=1704198630004),\n FileInfo(path=&#39;dbfs:/FileStore/tables/authentication.csv/&#39;, name=&#39;authentication.csv/&#39;, size=0, modificationTime=1704198630004),\n FileInfo(path=&#39;dbfs:/FileStore/tables/authentication_credentials-1.csv&#39;, name=&#39;authentication_credentials-1.csv&#39;, size=97, modificationTime=1702911405000),\n FileInfo(path=&#39;dbfs:/FileStore/tables/authentication_credentials-2.csv&#39;, name=&#39;authentication_credentials-2.csv&#39;, size=97, modificationTime=1702911558000),\n FileInfo(path=&#39;dbfs:/FileStore/tables/authentication_credentials-3.csv&#39;, name=&#39;authentication_credentials-3.csv&#39;, size=87, modificationTime=1703678451000),\n FileInfo(path=&#39;dbfs:/FileStore/tables/authentication_credentials.csv/&#39;, name=&#39;authentication_credentials.csv/&#39;, size=0, modificationTime=1704198630004),\n FileInfo(path=&#39;dbfs:/FileStore/tables/csv_files/&#39;, name=&#39;csv_files/&#39;, size=0, modificationTime=1704198630004),\n FileInfo(path=&#39;dbfs:/FileStore/tables/date_details.json&#39;, name=&#39;date_details.json&#39;, size=284166, modificationTime=1703945051000),\n FileInfo(path=&#39;dbfs:/FileStore/tables/downloaded_file.json&#39;, name=&#39;downloaded_file.json&#39;, size=48, modificationTime=1703945574000),\n FileInfo(path=&#39;dbfs:/FileStore/tables/downloaded_file2.json&#39;, name=&#39;downloaded_file2.json&#39;, size=60, modificationTime=1703954387000),\n FileInfo(path=&#39;dbfs:/FileStore/tables/geo_dirty.csv/&#39;, name=&#39;geo_dirty.csv/&#39;, size=0, modificationTime=1704198630004),\n FileInfo(path=&#39;dbfs:/FileStore/tables/json_files/&#39;, name=&#39;json_files/&#39;, size=0, modificationTime=1704198630004),\n FileInfo(path=&#39;dbfs:/FileStore/tables/pin_dirty.csv/&#39;, name=&#39;pin_dirty.csv/&#39;, size=0, modificationTime=1704198630004),\n FileInfo(path=&#39;dbfs:/FileStore/tables/single_json_file.json&#39;, name=&#39;single_json_file.json&#39;, size=293, modificationTime=1701857903000),\n FileInfo(path=&#39;dbfs:/FileStore/tables/user_dirty.csv/&#39;, name=&#39;user_dirty.csv/&#39;, size=0, modificationTime=1704198630004)]</div>",
       "datasetInfos": [],
       "metadata": {},
       "removedWidgets": [],
       "type": "html"
      }
     },
     "output_type": "display_data"
    }
   ],
   "source": [
    "dbutils.fs.ls(\"/FileStore/tables\")"
   ]
  }
 ],
 "metadata": {
  "application/vnd.databricks.v1+notebook": {
   "dashboards": [],
   "language": "python",
   "notebookMetadata": {
    "pythonIndentUnit": 4
   },
   "notebookName": "Access_file Notebook 2024-01-02 11:56:39",
   "widgets": {}
  }
 },
 "nbformat": 4,
 "nbformat_minor": 0
}
