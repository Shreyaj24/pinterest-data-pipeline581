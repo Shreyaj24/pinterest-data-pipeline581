{
 "cells": [
  {
   "cell_type": "code",
   "execution_count": 0,
   "metadata": {
    "application/vnd.databricks.v1+cell": {
     "cellMetadata": {
      "byteLimit": 2048000,
      "rowLimit": 10000
     },
     "inputWidgets": {},
     "nuid": "dc540f05-c317-4032-9c49-c40e50b025ac",
     "showTitle": false,
     "title": ""
    }
   },
   "outputs": [
    {
     "output_type": "display_data",
     "data": {
      "text/html": [
       "<style scoped>\n",
       "  .table-result-container {\n",
       "    max-height: 300px;\n",
       "    overflow: auto;\n",
       "  }\n",
       "  table, th, td {\n",
       "    border: 1px solid black;\n",
       "    border-collapse: collapse;\n",
       "  }\n",
       "  th, td {\n",
       "    padding: 5px;\n",
       "  }\n",
       "  th {\n",
       "    text-align: left;\n",
       "  }\n",
       "</style><div class='table-result-container'><table class='table-result'><thead style='background-color: white'><tr><th>country</th><th>ind</th><th>latitude</th><th>longitude</th><th>timestamp</th></tr></thead><tbody><tr><td>Antarctica (the territory South of 60 deg S)</td><td>2418</td><td>-88.4642</td><td>-171.061</td><td>2022-05-27 11:30:59</td></tr><tr><td>Antarctica (the territory South of 60 deg S)</td><td>5162</td><td>-71.6607</td><td>-149.206</td><td>2019-09-27 19:06:43</td></tr><tr><td>Antarctica (the territory South of 60 deg S)</td><td>1335</td><td>-77.9931</td><td>-175.682</td><td>2022-03-19 17:29:42</td></tr><tr><td>Antarctica (the territory South of 60 deg S)</td><td>9185</td><td>-10.3764</td><td>-22.9809</td><td>2019-10-06 18:12:55</td></tr><tr><td>Antarctica (the territory South of 60 deg S)</td><td>9335</td><td>-88.4642</td><td>-171.061</td><td>2020-11-14 23:42:22</td></tr><tr><td>Antarctica (the territory South of 60 deg S)</td><td>6749</td><td>-88.4642</td><td>-171.061</td><td>2018-04-16 07:39:46</td></tr><tr><td>Saint Vincent and the Grenadines</td><td>2301</td><td>13.4683</td><td>51.7244</td><td>2020-11-14 00:25:28</td></tr><tr><td>Holy See (Vatican City State)</td><td>7180</td><td>-22.7118</td><td>-167.739</td><td>2018-04-22 21:33:50</td></tr><tr><td>Svalbard & Jan Mayen Islands</td><td>10204</td><td>-14.3257</td><td>26.9087</td><td>2020-04-06 02:56:29</td></tr><tr><td>United States Virgin Islands</td><td>7718</td><td>-21.4347</td><td>108.416</td><td>2022-08-10 06:57:29</td></tr><tr><td>French Southern Territories</td><td>6014</td><td>-26.6026</td><td>155.206</td><td>2019-04-30 12:33:13</td></tr><tr><td>Bouvet Island (Bouvetoya)</td><td>8677</td><td>-84.3984</td><td>-144.933</td><td>2020-02-12 23:24:01</td></tr><tr><td>Bouvet Island (Bouvetoya)</td><td>9270</td><td>-84.3984</td><td>-144.933</td><td>2022-05-23 03:24:24</td></tr><tr><td>Bouvet Island (Bouvetoya)</td><td>2465</td><td>-57.1033</td><td>-29.6301</td><td>2022-07-23 11:15:09</td></tr><tr><td>Bouvet Island (Bouvetoya)</td><td>3185</td><td>-88.4607</td><td>-154.638</td><td>2022-06-14 09:39:11</td></tr><tr><td>Bouvet Island (Bouvetoya)</td><td>8251</td><td>-0.165781</td><td>-62.325</td><td>2022-02-03 11:05:11</td></tr><tr><td>Slovakia (Slovak Republic)</td><td>10513</td><td>25.2981</td><td>143.877</td><td>2021-05-30 01:56:22</td></tr><tr><td>Cocos (Keeling) Islands</td><td>10794</td><td>-89.5236</td><td>-154.567</td><td>2022-01-01 02:26:50</td></tr><tr><td>Central African Republic</td><td>10052</td><td>14.7195</td><td>-130.921</td><td>2020-01-03 01:10:57</td></tr><tr><td>Bouvet Island (Bouvetoya)</td><td>6660</td><td>-54.5264</td><td>73.4883</td><td>2019-02-01 11:00:19</td></tr><tr><td>Saint Pierre and Miquelon</td><td>7370</td><td>-24.2107</td><td>138.463</td><td>2018-04-05 08:02:42</td></tr><tr><td>Cocos (Keeling) Islands</td><td>10020</td><td>-88.6883</td><td>-86.0607</td><td>2021-08-22 19:54:37</td></tr><tr><td>Bouvet Island (Bouvetoya)</td><td>9935</td><td>-88.516</td><td>-178.811</td><td>2022-02-04 05:27:15</td></tr><tr><td>Saint Pierre and Miquelon</td><td>6740</td><td>-19.6583</td><td>90.4449</td><td>2022-09-29 22:58:19</td></tr><tr><td>Central African Republic</td><td>6906</td><td>-88.5425</td><td>-157.374</td><td>2019-07-12 06:22:04</td></tr><tr><td>Slovakia (Slovak Republic)</td><td>5084</td><td>87.8011</td><td>53.0249</td><td>2022-01-06 22:16:07</td></tr><tr><td>Central African Republic</td><td>2074</td><td>-52.3213</td><td>-50.11</td><td>2019-11-03 05:41:59</td></tr><tr><td>British Virgin Islands</td><td>2293</td><td>-87.7946</td><td>-159.647</td><td>2022-03-21 10:46:53</td></tr><tr><td>British Virgin Islands</td><td>3824</td><td>-82.4276</td><td>-170.019</td><td>2018-10-28 19:22:34</td></tr><tr><td>Bosnia and Herzegovina</td><td>2553</td><td>-77.5565</td><td>-152.042</td><td>2022-01-05 11:05:38</td></tr><tr><td>British Virgin Islands</td><td>5395</td><td>-6.93422</td><td>-24.9989</td><td>2020-08-15 19:30:19</td></tr><tr><td>British Virgin Islands</td><td>8120</td><td>-59.1209</td><td>-93.9878</td><td>2022-02-07 04:10:37</td></tr><tr><td>Saint Kitts and Nevis</td><td>10663</td><td>-27.3474</td><td>-162.83</td><td>2019-07-25 18:53:51</td></tr><tr><td>Sao Tome and Principe</td><td>5293</td><td>-13.1463</td><td>-25.9649</td><td>2019-05-31 20:49:36</td></tr><tr><td>Sao Tome and Principe</td><td>9426</td><td>-29.8646</td><td>-78.1449</td><td>2021-06-30 02:14:47</td></tr><tr><td>Libyan Arab Jamahiriya</td><td>1857</td><td>21.2186</td><td>-40.6656</td><td>2018-05-10 13:51:40</td></tr><tr><td>Libyan Arab Jamahiriya</td><td>1170</td><td>56.1198</td><td>20.2963</td><td>2019-08-07 22:17:07</td></tr><tr><td>British Virgin Islands</td><td>9550</td><td>-84.918</td><td>7.23235</td><td>2022-03-23 00:25:45</td></tr><tr><td>Antigua and Barbuda</td><td>7922</td><td>-88.0974</td><td>-172.052</td><td>2021-01-27 09:14:19</td></tr><tr><td>Antigua and Barbuda</td><td>8606</td><td>-88.0974</td><td>-172.052</td><td>2021-03-28 14:54:07</td></tr><tr><td>Antigua and Barbuda</td><td>2604</td><td>-80.8933</td><td>-104.972</td><td>2018-12-01 09:23:35</td></tr><tr><td>Antigua and Barbuda</td><td>2048</td><td>-89.4008</td><td>-142.186</td><td>2017-11-20 06:33:50</td></tr><tr><td>Antigua and Barbuda</td><td>2048</td><td>-89.4008</td><td>-142.186</td><td>2017-11-20 06:33:50</td></tr><tr><td>Netherlands Antilles</td><td>603</td><td>14.0083</td><td>-141.603</td><td>2019-06-25 05:13:01</td></tr><tr><td>Antigua and Barbuda</td><td>2955</td><td>23.7768</td><td>-23.4838</td><td>2022-10-11 17:21:06</td></tr><tr><td>Antigua and Barbuda</td><td>450</td><td>-81.0108</td><td>-165.206</td><td>2018-09-28 05:43:18</td></tr><tr><td>Antigua and Barbuda</td><td>310</td><td>-81.0108</td><td>-165.206</td><td>2021-01-25 22:22:37</td></tr><tr><td>Dominican Republic</td><td>5911</td><td>-63.6774</td><td>-118.407</td><td>2020-11-04 03:19:21</td></tr><tr><td>Dominican Republic</td><td>5317</td><td>-72.2358</td><td>-119.449</td><td>2021-02-21 20:35:38</td></tr><tr><td>Dominican Republic</td><td>3884</td><td>-56.7762</td><td>-130.132</td><td>2021-03-02 08:38:33</td></tr><tr><td>Dominican Republic</td><td>9979</td><td>14.9967</td><td>-120.682</td><td>2018-07-18 19:01:46</td></tr><tr><td>Christmas Island</td><td>10119</td><td>-74.5431</td><td>-162.795</td><td>2020-10-22 01:59:58</td></tr><tr><td>Trinidad and Tobago</td><td>2060</td><td>52.4584</td><td>68.6527</td><td>2020-01-25 13:54:17</td></tr><tr><td>Wallis and Futuna</td><td>6615</td><td>-25.2428</td><td>-32.8992</td><td>2022-01-31 18:53:34</td></tr><tr><td>Antigua and Barbuda</td><td>74</td><td>-81.0108</td><td>-165.206</td><td>2020-01-29 14:03:35</td></tr><tr><td>Equatorial Guinea</td><td>10248</td><td>-31.9615</td><td>161.151</td><td>2019-11-03 15:11:00</td></tr><tr><td>Brunei Darussalam</td><td>2904</td><td>-35.6673</td><td>-173.786</td><td>2022-03-17 06:29:33</td></tr><tr><td>Christmas Island</td><td>1704</td><td>-56.8702</td><td>-93.6232</td><td>2018-11-29 04:46:39</td></tr><tr><td>Marshall Islands</td><td>6261</td><td>-10.3101</td><td>-109.763</td><td>2021-11-11 16:18:45</td></tr><tr><td>Christmas Island</td><td>10337</td><td>-42.3069</td><td>-109.17</td><td>2021-10-26 12:09:43</td></tr><tr><td>Solomon Islands</td><td>10917</td><td>-86.2944</td><td>-11.7821</td><td>2019-08-18 13:14:30</td></tr><tr><td>Dominican Republic</td><td>6575</td><td>81.7192</td><td>61.5152</td><td>2020-12-29 22:59:37</td></tr><tr><td>Equatorial Guinea</td><td>7271</td><td>37.8447</td><td>-98.2389</td><td>2022-06-02 07:28:41</td></tr><tr><td>Pitcairn Islands</td><td>3201</td><td>34.0532</td><td>-68.4946</td><td>2019-06-25 08:31:37</td></tr><tr><td>Saint Barthelemy</td><td>3563</td><td>-77.3153</td><td>-69.505</td><td>2018-09-05 07:40:01</td></tr><tr><td>Solomon Islands</td><td>6916</td><td>-73.9714</td><td>-119.315</td><td>2020-04-26 04:12:09</td></tr><tr><td>Saint Barthelemy</td><td>6747</td><td>-63.5213</td><td>141.538</td><td>2019-04-23 08:01:32</td></tr><tr><td>French Polynesia</td><td>8004</td><td>44.8017</td><td>-151.313</td><td>2017-10-20 09:27:16</td></tr><tr><td>Papua New Guinea</td><td>7790</td><td>-43.692</td><td>64.9839</td><td>2018-07-31 08:19:15</td></tr><tr><td>American Samoa</td><td>9759</td><td>-77.9744</td><td>-106.258</td><td>2017-12-30 13:05:49</td></tr><tr><td>American Samoa</td><td>1422</td><td>-88.5252</td><td>-172.436</td><td>2018-04-30 08:27:21</td></tr><tr><td>American Samoa</td><td>8312</td><td>-77.9744</td><td>-106.258</td><td>2021-04-25 15:56:29</td></tr><tr><td>American Samoa</td><td>1450</td><td>-88.5252</td><td>-172.436</td><td>2022-01-15 16:04:27</td></tr><tr><td>American Samoa</td><td>9268</td><td>-88.5255</td><td>-161.644</td><td>2020-03-16 23:13:51</td></tr><tr><td>American Samoa</td><td>8886</td><td>-88.2286</td><td>-178.919</td><td>2022-01-16 10:17:16</td></tr><tr><td>American Samoa</td><td>4045</td><td>-89.3099</td><td>-166.033</td><td>2018-03-11 23:01:08</td></tr><tr><td>American Samoa</td><td>3626</td><td>-89.3099</td><td>-166.033</td><td>2021-05-31 08:12:00</td></tr><tr><td>Cayman Islands</td><td>10087</td><td>38.7097</td><td>-70.0495</td><td>2018-12-10 17:17:32</td></tr><tr><td>American Samoa</td><td>9407</td><td>-68.8926</td><td>-164.968</td><td>2022-03-05 17:22:15</td></tr><tr><td>American Samoa</td><td>3032</td><td>-66.7253</td><td>-122.489</td><td>2018-04-14 09:28:18</td></tr><tr><td>American Samoa</td><td>2759</td><td>-66.7253</td><td>-122.489</td><td>2022-02-20 11:53:20</td></tr><tr><td>Czech Republic</td><td>9718</td><td>-76.4505</td><td>-161.588</td><td>2021-11-25 04:36:47</td></tr><tr><td>American Samoa</td><td>2025</td><td>-88.5252</td><td>-172.436</td><td>2021-11-08 16:23:39</td></tr><tr><td>American Samoa</td><td>4251</td><td>-89.3099</td><td>-166.033</td><td>2018-09-24 23:24:26</td></tr><tr><td>American Samoa</td><td>9808</td><td>-77.9744</td><td>-106.258</td><td>2018-02-27 14:43:59</td></tr><tr><td>American Samoa</td><td>8612</td><td>-81.8896</td><td>-153.897</td><td>2022-04-09 09:20:15</td></tr><tr><td>American Samoa</td><td>8700</td><td>-88.5255</td><td>-161.644</td><td>2019-03-15 15:32:15</td></tr><tr><td>Faroe Islands</td><td>4505</td><td>0.0485475</td><td>-16.5635</td><td>2018-06-20 22:11:03</td></tr><tr><td>Cote d'Ivoire</td><td>2923</td><td>-84.6302</td><td>-164.507</td><td>2019-09-08 22:53:09</td></tr><tr><td>Czech Republic</td><td>4862</td><td>-65.3198</td><td>-123.45</td><td>2021-07-17 05:01:31</td></tr><tr><td>Solomon Islands</td><td>334</td><td>-42.0076</td><td>32.8769</td><td>2021-11-06 04:13:00</td></tr><tr><td>Cote d'Ivoire</td><td>5527</td><td>-74.0172</td><td>-109.979</td><td>2022-06-03 09:49:02</td></tr><tr><td>American Samoa</td><td>637</td><td>-41.2244</td><td>-158.022</td><td>2018-06-06 01:25:58</td></tr><tr><td>Burkina Faso</td><td>10321</td><td>-89.1005</td><td>-151.255</td><td>2022-10-09 08:06:50</td></tr><tr><td>American Samoa</td><td>781</td><td>-86.4433</td><td>-178.772</td><td>2021-02-27 23:30:48</td></tr><tr><td>American Samoa</td><td>570</td><td>-86.4433</td><td>-178.772</td><td>2019-05-21 00:12:37</td></tr><tr><td>French Guiana</td><td>8304</td><td>-28.8852</td><td>-164.87</td><td>2019-09-13 04:50:29</td></tr><tr><td>Cote d'Ivoire</td><td>4315</td><td>-45.8508</td><td>66.1003</td><td>2019-12-15 03:51:28</td></tr><tr><td>Guinea-Bissau</td><td>8578</td><td>34.6427</td><td>-161.397</td><td>2018-01-26 19:27:11</td></tr><tr><td>New Caledonia</td><td>6844</td><td>-22.6915</td><td>5.69245</td><td>2021-06-06 21:53:11</td></tr><tr><td>Faroe Islands</td><td>8978</td><td>-2.01499</td><td>3.78198</td><td>2017-12-01 13:26:06</td></tr><tr><td>Isle of Man</td><td>10120</td><td>-55.1562</td><td>-122.854</td><td>2022-03-10 07:02:32</td></tr><tr><td>Faroe Islands</td><td>5620</td><td>-53.6087</td><td>-121.68</td><td>2021-02-18 12:34:44</td></tr><tr><td>French Guiana</td><td>3660</td><td>-85.2885</td><td>6.96501</td><td>2018-10-23 21:26:01</td></tr><tr><td>Afghanistan</td><td>10783</td><td>-71.4881</td><td>-117.355</td><td>2020-01-28 00:13:29</td></tr><tr><td>French Guiana</td><td>456</td><td>-63.2737</td><td>-163.515</td><td>2018-05-17 18:00:51</td></tr><tr><td>Saint Martin</td><td>1694</td><td>-32.6594</td><td>-62.5204</td><td>2022-07-14 11:09:10</td></tr><tr><td>Norfolk Island</td><td>4396</td><td>15.0521</td><td>51.8958</td><td>2021-03-18 10:05:16</td></tr><tr><td>Liechtenstein</td><td>7952</td><td>-38.428</td><td>-68.0234</td><td>2020-11-28 08:11:22</td></tr><tr><td>Guinea-Bissau</td><td>9530</td><td>-22.5949</td><td>-65.081</td><td>2021-06-20 12:16:53</td></tr><tr><td>Afghanistan</td><td>3599</td><td>-88.5478</td><td>-174.971</td><td>2019-03-03 06:13:41</td></tr><tr><td>Afghanistan</td><td>7268</td><td>-88.3754</td><td>-164.273</td><td>2019-12-11 14:05:18</td></tr><tr><td>Afghanistan</td><td>4256</td><td>-88.5478</td><td>-174.971</td><td>2018-10-10 17:57:16</td></tr><tr><td>Afghanistan</td><td>10099</td><td>-89.4261</td><td>-171.58</td><td>2020-12-24 13:33:03</td></tr><tr><td>Burkina Faso</td><td>8174</td><td>-66.6708</td><td>-110.47</td><td>2018-10-20 17:28:23</td></tr><tr><td>Turkmenistan</td><td>9527</td><td>-38.4443</td><td>170.601</td><td>2021-11-17 07:50:58</td></tr><tr><td>New Caledonia</td><td>744</td><td>-76.8074</td><td>58.7517</td><td>2019-08-28 15:03:13</td></tr><tr><td>Afghanistan</td><td>7801</td><td>-75.9161</td><td>-27.6285</td><td>2017-11-18 22:54:58</td></tr><tr><td>Netherlands</td><td>6717</td><td>-58.7512</td><td>-162.324</td><td>2022-09-07 16:35:00</td></tr><tr><td>Bangladesh</td><td>10425</td><td>-89.4254</td><td>-161.818</td><td>2022-03-30 21:28:40</td></tr><tr><td>Afghanistan</td><td>4424</td><td>-85.7989</td><td>-150.644</td><td>2021-05-18 02:48:52</td></tr><tr><td>Afghanistan</td><td>3831</td><td>-88.5478</td><td>-174.971</td><td>2018-07-22 21:46:59</td></tr><tr><td>Afghanistan</td><td>6602</td><td>-88.0192</td><td>-169.911</td><td>2019-06-06 07:40:48</td></tr><tr><td>South Africa</td><td>10804</td><td>69.9913</td><td>170.373</td><td>2020-04-05 04:16:50</td></tr><tr><td>Afghanistan</td><td>9198</td><td>-12.1295</td><td>-29.9199</td><td>2019-04-07 22:11:02</td></tr><tr><td>Afghanistan</td><td>4249</td><td>-88.5478</td><td>-174.971</td><td>2021-09-01 11:10:02</td></tr><tr><td>El Salvador</td><td>7961</td><td>-25.6526</td><td>-170.677</td><td>2018-02-22 05:12:04</td></tr><tr><td>Afghanistan</td><td>4245</td><td>-88.5478</td><td>-174.971</td><td>2018-01-24 03:15:26</td></tr><tr><td>Afghanistan</td><td>3352</td><td>-84.5322</td><td>-179.647</td><td>2018-11-28 20:01:55</td></tr><tr><td>Afghanistan</td><td>7285</td><td>-88.3754</td><td>-164.273</td><td>2018-12-08 09:53:32</td></tr><tr><td>Afghanistan</td><td>3896</td><td>-88.5478</td><td>-174.971</td><td>2020-10-01 22:49:42</td></tr><tr><td>Afghanistan</td><td>8315</td><td>-87.8179</td><td>-178.525</td><td>2018-10-03 00:29:49</td></tr><tr><td>Azerbaijan</td><td>5069</td><td>-63.0063</td><td>-157.474</td><td>2021-03-20 09:32:44</td></tr><tr><td>Mozambique</td><td>6145</td><td>-65.9079</td><td>-143.845</td><td>2019-12-05 02:09:44</td></tr><tr><td>Philippines</td><td>4508</td><td>69.1858</td><td>-76.0761</td><td>2019-01-04 11:15:27</td></tr><tr><td>Madagascar</td><td>4988</td><td>-32.1879</td><td>-35.2784</td><td>2020-07-11 11:01:12</td></tr><tr><td>Isle of Man</td><td>427</td><td>-66.9418</td><td>-30.0087</td><td>2020-04-22 03:08:50</td></tr><tr><td>Azerbaijan</td><td>5758</td><td>-79.3714</td><td>-145.242</td><td>2018-09-12 15:08:34</td></tr><tr><td>Guadeloupe</td><td>6558</td><td>-26.4944</td><td>-174.009</td><td>2019-09-08 03:27:31</td></tr><tr><td>Saint Helena</td><td>1521</td><td>24.5192</td><td>64.9674</td><td>2022-10-12 14:03:26</td></tr><tr><td>Bangladesh</td><td>1814</td><td>-82.3274</td><td>-122.209</td><td>2020-04-25 10:16:28</td></tr><tr><td>Bangladesh</td><td>6348</td><td>-76.8013</td><td>-28.1091</td><td>2019-07-30 01:45:14</td></tr><tr><td>New Zealand</td><td>8505</td><td>63.1367</td><td>-61.1867</td><td>2018-07-13 22:57:41</td></tr><tr><td>El Salvador</td><td>4654</td><td>-77.816</td><td>-168.413</td><td>2020-06-22 16:43:58</td></tr><tr><td>Guinea-Bissau</td><td>2315</td><td>17.806</td><td>-1.9042</td><td>2019-06-05 08:54:04</td></tr><tr><td>Bangladesh</td><td>6809</td><td>-89.4254</td><td>-161.818</td><td>2020-04-17 13:20:43</td></tr><tr><td>Luxembourg</td><td>3504</td><td>-49.3653</td><td>-110.641</td><td>2021-08-19 00:41:47</td></tr><tr><td>Afghanistan</td><td>1786</td><td>33.2467</td><td>-132.693</td><td>2018-05-15 13:12:23</td></tr><tr><td>Cape Verde</td><td>1308</td><td>-84.8196</td><td>-76.5704</td><td>2021-05-24 13:17:12</td></tr><tr><td>Costa Rica</td><td>6276</td><td>-25.6124</td><td>-79.4675</td><td>2022-04-02 10:32:04</td></tr><tr><td>Turkmenistan</td><td>4670</td><td>3.12721</td><td>24.4592</td><td>2021-09-28 23:26:00</td></tr><tr><td>Bangladesh</td><td>2041</td><td>-52.0123</td><td>-148.446</td><td>2022-03-01 18:26:27</td></tr><tr><td>Azerbaijan</td><td>7685</td><td>-50.8291</td><td>-40.8846</td><td>2020-06-07 21:29:34</td></tr><tr><td>Bangladesh</td><td>428</td><td>-83.4105</td><td>-150.788</td><td>2020-09-27 18:46:41</td></tr><tr><td>Australia</td><td>7343</td><td>-65.4428</td><td>-161.684</td><td>2018-08-06 12:17:07</td></tr><tr><td>Seychelles</td><td>8653</td><td>48.4569</td><td>-139.658</td><td>2022-04-11 18:30:19</td></tr><tr><td>Isle of Man</td><td>5468</td><td>-83.544</td><td>33.9473</td><td>2020-05-16 23:17:50</td></tr><tr><td>Argentina</td><td>8930</td><td>-89.4739</td><td>-176.154</td><td>2021-09-29 13:25:49</td></tr><tr><td>Australia</td><td>7294</td><td>-76.2967</td><td>-136.501</td><td>2018-02-12 08:06:28</td></tr><tr><td>Montserrat</td><td>771</td><td>-29.1712</td><td>-107.111</td><td>2018-06-21 08:42:57</td></tr><tr><td>Mauritania</td><td>4076</td><td>-67.2157</td><td>27.8139</td><td>2019-06-07 20:13:50</td></tr><tr><td>Gibraltar</td><td>10509</td><td>-67.187</td><td>-24.2977</td><td>2019-03-06 12:21:56</td></tr><tr><td>Australia</td><td>9936</td><td>-82.1715</td><td>-147.691</td><td>2018-06-30 22:07:13</td></tr><tr><td>Cape Verde</td><td>6566</td><td>-39.225</td><td>-71.6593</td><td>2020-11-19 10:06:13</td></tr><tr><td>Isle of Man</td><td>223</td><td>1.15509</td><td>-118.397</td><td>2018-12-07 07:30:40</td></tr><tr><td>Argentina</td><td>2858</td><td>-65.1565</td><td>-166.807</td><td>2018-05-03 13:27:09</td></tr><tr><td>Nicaragua</td><td>10673</td><td>37.1991</td><td>-32.1713</td><td>2021-06-30 08:47:01</td></tr><tr><td>Mozambique</td><td>480</td><td>-30.7158</td><td>-167.461</td><td>2019-02-08 03:34:58</td></tr><tr><td>Guatemala</td><td>5151</td><td>-47.3372</td><td>-151.397</td><td>2020-07-15 01:42:38</td></tr><tr><td>Cape Verde</td><td>3184</td><td>-41.293</td><td>-171.585</td><td>2018-09-25 23:17:46</td></tr><tr><td>Argentina</td><td>1961</td><td>-65.3952</td><td>-175.249</td><td>2022-07-29 18:16:50</td></tr><tr><td>Bangladesh</td><td>680</td><td>-73.1838</td><td>-154.293</td><td>2019-03-29 23:22:56</td></tr><tr><td>Venezuela</td><td>3008</td><td>0.314337</td><td>-58.7666</td><td>2019-07-31 22:36:11</td></tr><tr><td>Puerto Rico</td><td>4377</td><td>-55.7837</td><td>2.5347</td><td>2020-07-18 04:12:10</td></tr><tr><td>Argentina</td><td>5737</td><td>-80.3487</td><td>-178.419</td><td>2020-04-11 11:27:31</td></tr><tr><td>Indonesia</td><td>5704</td><td>-85.9781</td><td>-172.038</td><td>2019-12-31 11:38:29</td></tr><tr><td>Argentina</td><td>8488</td><td>-89.4739</td><td>-176.154</td><td>2017-12-20 03:09:10</td></tr><tr><td>Argentina</td><td>7940</td><td>-87.7034</td><td>-178.422</td><td>2021-11-29 09:13:08</td></tr><tr><td>Bangladesh</td><td>1667</td><td>-83.448</td><td>-147.771</td><td>2022-02-23 16:10:08</td></tr><tr><td>Argentina</td><td>9146</td><td>-89.4739</td><td>-176.154</td><td>2018-08-08 16:20:34</td></tr><tr><td>Mozambique</td><td>7484</td><td>-6.16637</td><td>16.2863</td><td>2021-12-16 20:21:16</td></tr><tr><td>Singapore</td><td>10865</td><td>45.0564</td><td>-115.624</td><td>2019-09-16 04:32:25</td></tr><tr><td>Azerbaijan</td><td>4857</td><td>-39.5852</td><td>-175.96</td><td>2022-09-14 00:06:18</td></tr><tr><td>Argentina</td><td>8854</td><td>-89.4739</td><td>-176.154</td><td>2021-05-24 12:35:37</td></tr><tr><td>Argentina</td><td>7862</td><td>-87.7034</td><td>-178.422</td><td>2019-09-01 19:08:58</td></tr><tr><td>Bulgaria</td><td>5494</td><td>-82.6768</td><td>-129.202</td><td>2021-07-21 02:02:35</td></tr><tr><td>Anguilla</td><td>6063</td><td>-89.1797</td><td>-174.015</td><td>2021-07-20 09:02:47</td></tr><tr><td>Cambodia</td><td>3454</td><td>-0.375174</td><td>49.8106</td><td>2021-07-25 02:20:29</td></tr><tr><td>Jamaica</td><td>10625</td><td>-84.4944</td><td>-81.0613</td><td>2018-07-13 11:51:15</td></tr><tr><td>Barbados</td><td>9875</td><td>-74.3382</td><td>-110.484</td><td>2020-03-20 13:03:18</td></tr><tr><td>Botswana</td><td>8887</td><td>-28.0137</td><td>-160.708</td><td>2021-09-19 05:27:43</td></tr><tr><td>Australia</td><td>4137</td><td>-55.3079</td><td>108.918</td><td>2019-06-23 22:16:34</td></tr><tr><td>Argentina</td><td>1268</td><td>-41.7803</td><td>-177.23</td><td>2019-07-06 04:10:29</td></tr><tr><td>Maldives</td><td>5309</td><td>-89.4194</td><td>-84.2493</td><td>2020-05-04 22:00:32</td></tr><tr><td>Seychelles</td><td>1137</td><td>12.2544</td><td>10.7361</td><td>2020-12-26 00:56:04</td></tr><tr><td>Lithuania</td><td>3716</td><td>32.6648</td><td>-16.0578</td><td>2018-12-31 20:43:42</td></tr><tr><td>Anguilla</td><td>3334</td><td>-89.0609</td><td>-170.904</td><td>2019-09-26 20:13:48</td></tr><tr><td>Bulgaria</td><td>2565</td><td>-87.4992</td><td>-177.336</td><td>2022-02-06 13:42:35</td></tr><tr><td>Portugal</td><td>3351</td><td>-9.11859</td><td>-96.9091</td><td>2020-09-12 10:34:11</td></tr><tr><td>Barbados</td><td>3945</td><td>-66.2816</td><td>-142.673</td><td>2022-04-17 02:01:53</td></tr><tr><td>Anguilla</td><td>3360</td><td>-89.0609</td><td>-170.904</td><td>2019-01-26 07:43:57</td></tr><tr><td>Argentina</td><td>6380</td><td>-57.051</td><td>-133.377</td><td>2017-12-21 21:46:23</td></tr><tr><td>Bangladesh</td><td>6299</td><td>29.1899</td><td>98.5863</td><td>2022-10-05 06:08:34</td></tr><tr><td>Barbados</td><td>4027</td><td>-69.7124</td><td>-165.207</td><td>2019-01-23 20:53:22</td></tr><tr><td>Armenia</td><td>10931</td><td>-82.9685</td><td>-178.095</td><td>2021-03-20 06:14:31</td></tr><tr><td>Bulgaria</td><td>7896</td><td>-64.1231</td><td>-164.904</td><td>2020-06-02 13:49:36</td></tr><tr><td>Slovenia</td><td>1631</td><td>-25.8117</td><td>-69.8618</td><td>2020-08-24 10:43:22</td></tr><tr><td>Guatemala</td><td>7511</td><td>85.0721</td><td>-128.483</td><td>2019-10-25 19:38:50</td></tr><tr><td>Maldives</td><td>4780</td><td>-85.4758</td><td>-166.172</td><td>2020-10-25 17:29:49</td></tr><tr><td>Saudi Arabia</td><td>5091</td><td>-19.04</td><td>3.5168</td><td>2020-11-07 10:43:32</td></tr><tr><td>Ethiopia</td><td>9014</td><td>-37.2495</td><td>-118.101</td><td>2021-04-20 19:45:15</td></tr><tr><td>Armenia</td><td>10137</td><td>-50.8998</td><td>-112.455</td><td>2021-05-03 17:23:40</td></tr><tr><td>Cameroon</td><td>1179</td><td>-24.8281</td><td>-138.237</td><td>2018-11-24 03:50:34</td></tr><tr><td>Nicaragua</td><td>4556</td><td>69.6624</td><td>-128.284</td><td>2021-01-03 15:01:51</td></tr><tr><td>Swaziland</td><td>9653</td><td>-8.51096</td><td>48.4678</td><td>2018-10-04 15:17:55</td></tr><tr><td>Maldives</td><td>2946</td><td>-89.8559</td><td>-170.155</td><td>2020-09-26 03:51:16</td></tr><tr><td>Mauritius</td><td>6957</td><td>-70.9941</td><td>168.195</td><td>2021-04-25 04:41:38</td></tr><tr><td>Paraguay</td><td>10585</td><td>11.1301</td><td>-96.9338</td><td>2018-05-21 07:14:11</td></tr><tr><td>Estonia</td><td>10677</td><td>-86.3132</td><td>-105.805</td><td>2018-03-08 17:26:24</td></tr><tr><td>Bahrain</td><td>10278</td><td>-52.3365</td><td>-177.892</td><td>2019-07-23 13:35:03</td></tr><tr><td>Botswana</td><td>2793</td><td>-84.3867</td><td>-120.917</td><td>2021-03-22 17:39:38</td></tr><tr><td>Bulgaria</td><td>1832</td><td>-12.0827</td><td>-87.0131</td><td>2020-08-18 12:11:49</td></tr><tr><td>Cameroon</td><td>1778</td><td>-84.7767</td><td>-155.835</td><td>2020-05-23 00:20:16</td></tr><tr><td>Bulgaria</td><td>4107</td><td>-54.7673</td><td>-89.1567</td><td>2021-04-21 22:03:54</td></tr><tr><td>Anguilla</td><td>2288</td><td>-89.1797</td><td>-174.015</td><td>2019-11-03 06:08:36</td></tr><tr><td>Cambodia</td><td>1598</td><td>-55.4968</td><td>-165.517</td><td>2021-05-01 05:03:08</td></tr><tr><td>Cameroon</td><td>3349</td><td>-84.7767</td><td>-155.835</td><td>2022-01-09 07:39:35</td></tr><tr><td>Bahamas</td><td>10715</td><td>-57.3926</td><td>-145.818</td><td>2022-09-24 08:05:54</td></tr><tr><td>Albania</td><td>7528</td><td>-89.9787</td><td>-173.293</td><td>2020-08-28 03:52:47</td></tr><tr><td>Armenia</td><td>2863</td><td>-5.34445</td><td>-177.924</td><td>2020-04-27 13:34:16</td></tr><tr><td>Colombia</td><td>5730</td><td>-77.015</td><td>-101.437</td><td>2021-04-19 17:37:03</td></tr><tr><td>Albania</td><td>3089</td><td>-89.9787</td><td>-173.293</td><td>2018-02-28 05:31:29</td></tr><tr><td>Austria</td><td>10138</td><td>-72.142</td><td>-74.3545</td><td>2019-08-03 00:59:29</td></tr><tr><td>Austria</td><td>9546</td><td>-70.0295</td><td>-155.428</td><td>2018-02-10 06:16:40</td></tr><tr><td>Albania</td><td>2411</td><td>-71.6856</td><td>-179.126</td><td>2020-11-15 17:10:07</td></tr><tr><td>Algeria</td><td>9590</td><td>-64.3876</td><td>-174.281</td><td>2019-05-20 19:48:48</td></tr><tr><td>Germany</td><td>5076</td><td>-70.7195</td><td>-91.1935</td><td>2019-05-05 16:22:23</td></tr><tr><td>Barbados</td><td>205</td><td>-75.8378</td><td>-163.945</td><td>2020-07-08 14:10:38</td></tr><tr><td>Armenia</td><td>1094</td><td>-46.7328</td><td>-124.445</td><td>2018-08-19 00:34:20</td></tr><tr><td>Bahrain</td><td>5630</td><td>-19.1403</td><td>-164.987</td><td>2019-05-12 14:43:19</td></tr><tr><td>Albania</td><td>6398</td><td>-3.29267</td><td>-179.726</td><td>2020-01-19 01:49:05</td></tr><tr><td>Afghanistan</td><td>46</td><td>4.21689</td><td>-145.82</td><td>2018-09-15 09:16:57</td></tr><tr><td>Grenada</td><td>10552</td><td>32.7568</td><td>-179.812</td><td>2020-08-24 11:39:32</td></tr><tr><td>Andorra</td><td>1371</td><td>-89.4584</td><td>-134.271</td><td>2018-08-08 04:41:17</td></tr><tr><td>Andorra</td><td>9074</td><td>-84.7363</td><td>-179.087</td><td>2022-04-10 17:06:13</td></tr><tr><td>Finland</td><td>10370</td><td>-81.9798</td><td>-71.932</td><td>2018-07-29 15:53:40</td></tr><tr><td>Algeria</td><td>7234</td><td>-86.4791</td><td>-169.547</td><td>2017-10-21 14:31:02</td></tr><tr><td>Algeria</td><td>7874</td><td>-89.5173</td><td>-179.689</td><td>2022-01-18 08:58:49</td></tr><tr><td>Bahamas</td><td>10245</td><td>-50.1835</td><td>146.776</td><td>2020-03-03 15:39:44</td></tr><tr><td>Austria</td><td>9093</td><td>-87.7764</td><td>-151.645</td><td>2021-07-24 23:07:06</td></tr><tr><td>Djibouti</td><td>2788</td><td>-36.076</td><td>-94.1779</td><td>2019-12-18 03:04:41</td></tr><tr><td>Algeria</td><td>7733</td><td>-89.5173</td><td>-179.689</td><td>2022-09-29 10:45:19</td></tr><tr><td>Comoros</td><td>3750</td><td>-73.8837</td><td>-159.054</td><td>2022-09-03 23:36:08</td></tr><tr><td>Guatemala</td><td>778</td><td>48.2704</td><td>-123.073</td><td>2018-10-19 14:43:39</td></tr><tr><td>Andorra</td><td>7586</td><td>-84.7363</td><td>-179.087</td><td>2021-02-07 22:17:31</td></tr><tr><td>Algeria</td><td>1864</td><td>-72.3958</td><td>-164.414</td><td>2020-04-24 17:08:13</td></tr><tr><td>Croatia</td><td>5333</td><td>-86.6652</td><td>-173.898</td><td>2021-01-20 08:10:08</td></tr><tr><td>Albania</td><td>1341</td><td>-89.9787</td><td>-173.293</td><td>2022-08-11 05:25:33</td></tr><tr><td>Austria</td><td>6250</td><td>-73.2098</td><td>-150.856</td><td>2020-11-22 18:28:02</td></tr><tr><td>Bahamas</td><td>4357</td><td>-75.4909</td><td>-179.908</td><td>2020-03-06 09:56:43</td></tr><tr><td>Bolivia</td><td>6066</td><td>-67.7278</td><td>-174.505</td><td>2019-03-04 01:04:11</td></tr><tr><td>Albania</td><td>1216</td><td>-69.8134</td><td>-152.834</td><td>2020-07-19 23:57:16</td></tr><tr><td>Namibia</td><td>7905</td><td>-47.8121</td><td>-134.015</td><td>2018-11-13 12:39:43</td></tr><tr><td>Finland</td><td>5488</td><td>-59.6163</td><td>-107.324</td><td>2021-03-14 05:55:21</td></tr><tr><td>Somalia</td><td>8341</td><td>-16.5066</td><td>-133.185</td><td>2022-08-08 05:09:50</td></tr><tr><td>Austria</td><td>6134</td><td>-68.8136</td><td>-128.482</td><td>2022-04-03 12:34:59</td></tr><tr><td>Dominica</td><td>2987</td><td>83.1466</td><td>-169.136</td><td>2019-12-24 22:33:06</td></tr><tr><td>Colombia</td><td>5551</td><td>-67.8095</td><td>63.2758</td><td>2022-03-22 06:04:33</td></tr><tr><td>Martinique</td><td>8015</td><td>52.4977</td><td>94.336</td><td>2020-03-13 18:02:39</td></tr><tr><td>Algeria</td><td>7745</td><td>-89.5173</td><td>-179.689</td><td>2018-11-01 18:20:28</td></tr><tr><td>Cameroon</td><td>409</td><td>-41.5492</td><td>-152.355</td><td>2019-05-28 01:00:22</td></tr><tr><td>Andorra</td><td>7759</td><td>-84.7363</td><td>-179.087</td><td>2020-06-14 00:42:47</td></tr><tr><td>Macedonia</td><td>9425</td><td>17.5612</td><td>132.851</td><td>2020-07-25 01:35:10</td></tr><tr><td>Malawi</td><td>10050</td><td>-62.2012</td><td>-115.461</td><td>2018-09-23 01:54:04</td></tr><tr><td>Hungary</td><td>4561</td><td>-63.6785</td><td>-29.2943</td><td>2020-04-05 19:38:48</td></tr><tr><td>Andorra</td><td>6341</td><td>-81.6697</td><td>-149.084</td><td>2018-05-22 07:07:24</td></tr><tr><td>Algeria</td><td>8100</td><td>-89.5173</td><td>-179.689</td><td>2019-12-03 15:49:59</td></tr><tr><td>Dominica</td><td>4781</td><td>-72.0263</td><td>32.3959</td><td>2019-06-30 13:16:16</td></tr><tr><td>Germany</td><td>5647</td><td>-82.2521</td><td>-110.013</td><td>2021-05-11 20:20:59</td></tr><tr><td>Austria</td><td>5166</td><td>-26.0588</td><td>-72.2696</td><td>2020-01-16 09:56:50</td></tr><tr><td>Albania</td><td>7240</td><td>-89.9787</td><td>-173.293</td><td>2022-05-31 21:23:46</td></tr><tr><td>Algeria</td><td>7670</td><td>-89.5173</td><td>-179.689</td><td>2021-12-25 18:58:40</td></tr><tr><td>Serbia</td><td>10160</td><td>-19.5192</td><td>-115.211</td><td>2019-05-07 04:28:27</td></tr><tr><td>Belgium</td><td>9734</td><td>-77.5092</td><td>-33.8585</td><td>2020-07-25 03:43:05</td></tr><tr><td>Algeria</td><td>9502</td><td>-71.3184</td><td>-113.724</td><td>2021-06-27 10:58:17</td></tr><tr><td>Albania</td><td>1341</td><td>-89.9787</td><td>-173.293</td><td>2022-08-11 05:25:33</td></tr><tr><td>Andorra</td><td>9155</td><td>-84.7363</td><td>-179.087</td><td>2021-09-04 20:27:36</td></tr><tr><td>Bermuda</td><td>7448</td><td>-48.4974</td><td>-61.5981</td><td>2017-12-20 07:13:19</td></tr><tr><td>Algeria</td><td>8090</td><td>-89.5173</td><td>-179.689</td><td>2019-04-18 00:54:25</td></tr><tr><td>Andorra</td><td>8996</td><td>-84.7363</td><td>-179.087</td><td>2022-06-12 07:21:52</td></tr><tr><td>Croatia</td><td>5198</td><td>-13.8028</td><td>-160.846</td><td>2020-10-21 11:13:53</td></tr><tr><td>Botswana</td><td>8592</td><td>-80.8644</td><td>-133.78</td><td>2018-01-18 04:17:50</td></tr><tr><td>Algeria</td><td>6865</td><td>-70.3363</td><td>-42.7487</td><td>2020-05-15 16:04:18</td></tr><tr><td>Belarus</td><td>10538</td><td>-82.4354</td><td>59.1527</td><td>2018-01-29 03:49:45</td></tr><tr><td>Burundi</td><td>7467</td><td>-55.3123</td><td>-170.812</td><td>2020-03-04 20:03:07</td></tr><tr><td>Georgia</td><td>3813</td><td>-26.2917</td><td>-29.1171</td><td>2020-06-15 09:37:48</td></tr><tr><td>Algeria</td><td>8237</td><td>-89.5173</td><td>-179.689</td><td>2021-07-08 05:55:06</td></tr><tr><td>Andorra</td><td>7891</td><td>-89.4584</td><td>-134.271</td><td>2020-05-05 10:10:10</td></tr><tr><td>Andorra</td><td>9332</td><td>-73.8268</td><td>-159.056</td><td>2018-09-22 14:44:57</td></tr><tr><td>Bahrain</td><td>9584</td><td>-36.8458</td><td>-116.844</td><td>2018-04-23 06:21:51</td></tr><tr><td>Albania</td><td>5159</td><td>-62.7034</td><td>-114.366</td><td>2021-08-26 08:03:46</td></tr><tr><td>Albania</td><td>5759</td><td>-62.7034</td><td>-114.366</td><td>2019-06-08 02:29:25</td></tr><tr><td>Lithuania</td><td>9363</td><td>-74.8991</td><td>79.285</td><td>2018-12-13 03:57:08</td></tr><tr><td>Botswana</td><td>2172</td><td>9.88473</td><td>-160.515</td><td>2022-05-19 04:02:52</td></tr><tr><td>Kiribati</td><td>1026</td><td>-23.6508</td><td>14.2803</td><td>2021-08-08 06:13:17</td></tr><tr><td>Algeria</td><td>8449</td><td>-89.5173</td><td>-179.689</td><td>2022-05-19 10:06:47</td></tr><tr><td>Bolivia</td><td>6488</td><td>-87.9073</td><td>-153.482</td><td>2018-05-15 03:11:41</td></tr><tr><td>Botswana</td><td>1066</td><td>-54.8354</td><td>39.6735</td><td>2019-08-29 17:31:37</td></tr><tr><td>Albania</td><td>5230</td><td>-89.9787</td><td>-173.293</td><td>2022-05-05 00:30:35</td></tr><tr><td>Argentina</td><td>6181</td><td>-89.63</td><td>-179.022</td><td>2022-08-18 21:20:00</td></tr><tr><td>Andorra</td><td>9099</td><td>-73.8268</td><td>-159.056</td><td>2017-12-24 21:03:56</td></tr><tr><td>Andorra</td><td>2927</td><td>-87.1113</td><td>-159.587</td><td>2020-02-14 00:04:58</td></tr><tr><td>Albania</td><td>1465</td><td>-69.8134</td><td>-152.834</td><td>2020-11-09 12:15:10</td></tr><tr><td>Bahamas</td><td>2787</td><td>-51.5396</td><td>-105.634</td><td>2022-03-05 15:22:38</td></tr><tr><td>Bulgaria</td><td>7318</td><td>-30.255</td><td>-87.2169</td><td>2019-10-27 05:28:07</td></tr><tr><td>Algeria</td><td>7769</td><td>-89.5173</td><td>-179.689</td><td>2019-05-27 20:40:51</td></tr><tr><td>Tunisia</td><td>9749</td><td>-44.6516</td><td>-5.39518</td><td>2022-02-06 22:14:06</td></tr><tr><td>Greenland</td><td>3710</td><td>73.3141</td><td>168.921</td><td>2018-11-05 01:18:53</td></tr><tr><td>Venezuela</td><td>7770</td><td>50.8676</td><td>58.8244</td><td>2019-10-03 17:28:34</td></tr><tr><td>Argentina</td><td>9010</td><td>-89.63</td><td>-179.022</td><td>2018-12-21 18:40:56</td></tr><tr><td>Anguilla</td><td>1676</td><td>69.5322</td><td>-89.9617</td><td>2019-01-11 11:53:56</td></tr><tr><td>Maldives</td><td>1313</td><td>77.0447</td><td>61.9119</td><td>2018-06-26 02:39:25</td></tr><tr><td>Angola</td><td>2959</td><td>-68.0095</td><td>-157.227</td><td>2019-08-19 08:22:02</td></tr><tr><td>Armenia</td><td>3156</td><td>-84.738</td><td>-160.795</td><td>2018-01-13 19:33:49</td></tr><tr><td>Armenia</td><td>719</td><td>-38.4062</td><td>-154.323</td><td>2018-10-29 04:05:12</td></tr><tr><td>Bermuda</td><td>2482</td><td>63.4563</td><td>-164.709</td><td>2019-09-13 08:20:13</td></tr><tr><td>Albania</td><td>808</td><td>-71.6856</td><td>-179.126</td><td>2019-01-03 15:43:12</td></tr><tr><td>Anguilla</td><td>1545</td><td>-30.18</td><td>-72.3784</td><td>2022-06-17 05:47:12</td></tr><tr><td>Armenia</td><td>2015</td><td>-17.629</td><td>-177.685</td><td>2018-09-22 13:52:19</td></tr><tr><td>Algeria</td><td>7768</td><td>-88.355</td><td>-96.0131</td><td>2018-05-25 21:34:19</td></tr><tr><td>Turkey</td><td>3729</td><td>-24.4793</td><td>-150.145</td><td>2018-01-17 03:43:38</td></tr><tr><td>Andorra</td><td>159</td><td>-88.0812</td><td>-166.603</td><td>2017-11-20 21:14:56</td></tr><tr><td>Ecuador</td><td>7167</td><td>-55.757</td><td>-157.572</td><td>2019-12-27 20:45:04</td></tr><tr><td>Canada</td><td>9487</td><td>-76.9532</td><td>-113.641</td><td>2018-12-18 11:16:52</td></tr><tr><td>Gibraltar</td><td>327</td><td>62.3674</td><td>100.972</td><td>2022-02-09 03:03:58</td></tr><tr><td>Tanzania</td><td>232</td><td>6.60912</td><td>-173.609</td><td>2019-02-18 03:38:47</td></tr><tr><td>Kuwait</td><td>8366</td><td>-38.5318</td><td>-139.215</td><td>2018-03-28 14:17:11</td></tr><tr><td>Australia</td><td>1967</td><td>32.74</td><td>-179.581</td><td>2021-02-05 10:37:28</td></tr><tr><td>Canada</td><td>1699</td><td>-54.3706</td><td>-127.783</td><td>2022-07-03 13:25:48</td></tr><tr><td>Norway</td><td>10168</td><td>-14.7211</td><td>137.812</td><td>2019-10-14 00:19:33</td></tr><tr><td>Moldova</td><td>995</td><td>-88.0923</td><td>-179.319</td><td>2022-09-22 12:17:57</td></tr><tr><td>Cyprus</td><td>5959</td><td>-44.9016</td><td>-17.5192</td><td>2020-08-10 01:00:33</td></tr><tr><td>Morocco</td><td>8123</td><td>80.2593</td><td>-134.292</td><td>2021-08-23 07:31:46</td></tr><tr><td>Denmark</td><td>1487</td><td>6.23029</td><td>-75.5939</td><td>2021-05-15 18:23:45</td></tr><tr><td>Ireland</td><td>6479</td><td>47.9142</td><td>-98.4756</td><td>2020-10-12 04:13:06</td></tr><tr><td>Georgia</td><td>4055</td><td>16.8902</td><td>-123.373</td><td>2021-09-23 06:42:16</td></tr><tr><td>Ecuador</td><td>7383</td><td>-55.757</td><td>-157.572</td><td>2022-01-28 15:36:36</td></tr><tr><td>Angola</td><td>3240</td><td>-24.2386</td><td>-165.309</td><td>2022-06-10 09:36:51</td></tr><tr><td>Armenia</td><td>8645</td><td>-69.636</td><td>-166.432</td><td>2022-06-22 09:32:17</td></tr><tr><td>Aruba</td><td>10734</td><td>-51.2174</td><td>-166.894</td><td>2021-08-29 21:27:53</td></tr><tr><td>Bahamas</td><td>10371</td><td>44.5638</td><td>101.933</td><td>2017-12-17 12:54:54</td></tr><tr><td>Albania</td><td>501</td><td>-88.8298</td><td>-170.188</td><td>2018-11-04 15:42:21</td></tr><tr><td>Bermuda</td><td>1173</td><td>-40.9049</td><td>110.638</td><td>2021-07-18 00:52:31</td></tr><tr><td>Lesotho</td><td>8926</td><td>43.0814</td><td>-91.8318</td><td>2019-10-28 22:24:31</td></tr><tr><td>Aruba</td><td>10029</td><td>-89.8157</td><td>-173.632</td><td>2020-06-17 14:24:19</td></tr><tr><td>Bahamas</td><td>857</td><td>-87.0574</td><td>-164.826</td><td>2021-12-28 23:31:43</td></tr><tr><td>Austria</td><td>4949</td><td>-26.961</td><td>-141.787</td><td>2021-05-08 19:16:52</td></tr><tr><td>Belize</td><td>7039</td><td>-77.5336</td><td>-161.068</td><td>2020-09-20 18:21:13</td></tr><tr><td>Moldova</td><td>6328</td><td>29.6234</td><td>-33.0952</td><td>2018-01-06 06:29:33</td></tr><tr><td>Brazil</td><td>5402</td><td>-27.1791</td><td>-159.955</td><td>2022-07-22 12:40:32</td></tr><tr><td>Armenia</td><td>3231</td><td>-84.738</td><td>-160.795</td><td>2018-10-12 08:31:30</td></tr><tr><td>Namibia</td><td>10526</td><td>59.1203</td><td>94.4738</td><td>2018-02-21 14:52:09</td></tr><tr><td>Austria</td><td>4064</td><td>-48.6363</td><td>-177.92</td><td>2021-11-19 16:11:38</td></tr><tr><td>Gabon</td><td>10198</td><td>-77.4995</td><td>-65.4026</td><td>2022-02-18 20:14:09</td></tr><tr><td>Algeria</td><td>8162</td><td>-74.408</td><td>-178.774</td><td>2020-07-22 06:56:03</td></tr><tr><td>Belgium</td><td>3393</td><td>-73.6491</td><td>-136.57</td><td>2018-10-10 20:34:11</td></tr><tr><td>Angola</td><td>2668</td><td>-24.2386</td><td>-165.309</td><td>2019-11-13 16:18:57</td></tr><tr><td>Romania</td><td>7950</td><td>76.0609</td><td>-60.6718</td><td>2017-10-23 12:34:22</td></tr><tr><td>Bermuda</td><td>10600</td><td>68.9357</td><td>122.338</td><td>2020-12-31 07:05:04</td></tr><tr><td>Monaco</td><td>10862</td><td>23.1361</td><td>-63.9384</td><td>2017-11-30 01:25:50</td></tr><tr><td>Nigeria</td><td>2095</td><td>27.5545</td><td>-5.30833</td><td>2022-09-13 08:48:27</td></tr><tr><td>Algeria</td><td>9904</td><td>-74.7055</td><td>-177.87</td><td>2018-07-27 09:36:32</td></tr><tr><td>Angola</td><td>3562</td><td>-87.3742</td><td>-177.647</td><td>2022-04-08 10:19:47</td></tr><tr><td>Kuwait</td><td>2422</td><td>-31.8074</td><td>-169.911</td><td>2022-01-11 01:24:46</td></tr><tr><td>Canada</td><td>7262</td><td>-84.0716</td><td>-6.14558</td><td>2020-01-29 23:37:22</td></tr><tr><td>Algeria</td><td>8511</td><td>86.5503</td><td>-175.518</td><td>2021-11-09 14:40:16</td></tr><tr><td>Denmark</td><td>1487</td><td>6.23029</td><td>-75.5939</td><td>2021-05-15 18:23:45</td></tr><tr><td>Andorra</td><td>616</td><td>-77.6883</td><td>-145.539</td><td>2017-10-25 11:00:30</td></tr><tr><td>Armenia</td><td>865</td><td>-88.9652</td><td>-164.795</td><td>2019-12-22 03:54:25</td></tr><tr><td>Sudan</td><td>7554</td><td>-51.2172</td><td>-77.9768</td><td>2019-03-20 03:15:07</td></tr><tr><td>Aruba</td><td>4913</td><td>-84.3768</td><td>-157.544</td><td>2019-03-08 06:45:39</td></tr><tr><td>Aruba</td><td>7166</td><td>-86.4063</td><td>-136.657</td><td>2022-07-25 03:07:37</td></tr><tr><td>Bhutan</td><td>3419</td><td>7.60293</td><td>-108.979</td><td>2021-12-20 05:01:54</td></tr><tr><td>Algeria</td><td>1555</td><td>-1.7046</td><td>-55.332</td><td>2017-12-24 18:41:23</td></tr><tr><td>Lesotho</td><td>552</td><td>-80.6043</td><td>31.9601</td><td>2022-03-14 05:12:07</td></tr><tr><td>Tunisia</td><td>2637</td><td>3.0033</td><td>-96.4904</td><td>2022-10-15 13:25:51</td></tr><tr><td>Finland</td><td>1198</td><td>6.37207</td><td>-150.73</td><td>2020-01-24 23:42:18</td></tr><tr><td>Aruba</td><td>7510</td><td>-79.9828</td><td>-172.235</td><td>2021-12-21 01:37:25</td></tr><tr><td>Aruba</td><td>1706</td><td>-71.5025</td><td>-179.257</td><td>2017-11-24 23:36:46</td></tr><tr><td>Israel</td><td>7832</td><td>-53.8629</td><td>91.8136</td><td>2022-02-14 13:47:24</td></tr><tr><td>Kuwait</td><td>3011</td><td>-76.4675</td><td>28.8054</td><td>2019-12-17 17:46:18</td></tr><tr><td>Panama</td><td>9475</td><td>-84.1953</td><td>164.362</td><td>2019-03-19 08:26:35</td></tr><tr><td>Poland</td><td>4996</td><td>39.9625</td><td>-118.569</td><td>2019-04-16 23:49:42</td></tr><tr><td>Kenya</td><td>3145</td><td>-57.5981</td><td>-19.8932</td><td>2022-06-18 22:46:26</td></tr><tr><td>Jamaica</td><td>5742</td><td>-73.4926</td><td>-61.56</td><td>2020-09-02 01:40:18</td></tr><tr><td>Samoa</td><td>10837</td><td>86.6387</td><td>-26.2408</td><td>2018-09-27 07:12:31</td></tr><tr><td>Tuvalu</td><td>8745</td><td>31.6701</td><td>-59.7391</td><td>2020-10-28 03:45:33</td></tr><tr><td>Aruba</td><td>2577</td><td>-71.5025</td><td>-179.257</td><td>2019-08-01 05:45:51</td></tr><tr><td>Bolivia</td><td>1599</td><td>86.0967</td><td>111.323</td><td>2019-02-05 14:58:20</td></tr><tr><td>Bermuda</td><td>2893</td><td>-68.5399</td><td>-28.38</td><td>2018-03-05 04:33:55</td></tr><tr><td>Benin</td><td>10022</td><td>70.5626</td><td>-89.4526</td><td>2018-12-17 20:26:14</td></tr><tr><td>Namibia</td><td>4513</td><td>22.2314</td><td>144.214</td><td>2022-04-11 11:05:13</td></tr><tr><td>Vietnam</td><td>7850</td><td>26.5208</td><td>160.699</td><td>2022-04-09 15:06:01</td></tr><tr><td>Egypt</td><td>6652</td><td>-78.2534</td><td>-170.668</td><td>2018-11-28 08:21:12</td></tr><tr><td>Benin</td><td>9218</td><td>-70.6524</td><td>-171.552</td><td>2020-05-07 21:30:58</td></tr><tr><td>Brazil</td><td>2343</td><td>60.6981</td><td>-79.5945</td><td>2019-10-15 13:21:45</td></tr><tr><td>Bhutan</td><td>4765</td><td>56.1765</td><td>-60.3563</td><td>2020-06-09 00:49:44</td></tr><tr><td>Latvia</td><td>1254</td><td>76.9735</td><td>-178.147</td><td>2021-06-08 18:40:59</td></tr><tr><td>Guinea</td><td>2011</td><td>18.6922</td><td>-80.0756</td><td>2020-12-14 18:11:42</td></tr><tr><td>Belize</td><td>3436</td><td>-35.194</td><td>-115.253</td><td>2022-05-31 23:26:11</td></tr><tr><td>Grenada</td><td>5130</td><td>-86.6858</td><td>-160.5</td><td>2020-10-24 23:43:15</td></tr><tr><td>Estonia</td><td>1675</td><td>13.8054</td><td>13.0336</td><td>2022-06-15 03:39:59</td></tr><tr><td>Panama</td><td>9475</td><td>-84.1953</td><td>164.362</td><td>2019-03-19 08:26:35</td></tr><tr><td>Greece</td><td>5724</td><td>47.1902</td><td>-10.6517</td><td>2018-01-19 07:36:12</td></tr><tr><td>Aruba</td><td>6976</td><td>-74.1238</td><td>-64.0839</td><td>2020-09-14 04:55:37</td></tr><tr><td>India</td><td>2810</td><td>-85.4298</td><td>-49.5099</td><td>2019-12-29 14:34:40</td></tr><tr><td>France</td><td>1139</td><td>-68.4636</td><td>112.577</td><td>2018-05-06 18:02:56</td></tr><tr><td>Aruba</td><td>7437</td><td>-86.4063</td><td>-136.657</td><td>2021-10-27 06:00:23</td></tr><tr><td>Armenia</td><td>1503</td><td>-74.225</td><td>-178.59</td><td>2019-08-18 05:34:11</td></tr><tr><td>Latvia</td><td>7162</td><td>-62.1814</td><td>-161.34</td><td>2017-12-16 03:09:45</td></tr><tr><td>Ecuador</td><td>2975</td><td>42.4695</td><td>101.315</td><td>2021-08-06 01:48:36</td></tr><tr><td>Aruba</td><td>10883</td><td>-53.423</td><td>-59.3144</td><td>2020-07-25 13:21:12</td></tr><tr><td>Uganda</td><td>1643</td><td>52.0489</td><td>-63.5087</td><td>2018-08-17 13:25:13</td></tr><tr><td>Uganda</td><td>1611</td><td>15.9313</td><td>-117.052</td><td>2018-04-09 02:43:42</td></tr><tr><td>Congo</td><td>1024</td><td>-35.9989</td><td>-107.383</td><td>2020-03-11 02:37:45</td></tr><tr><td>Aruba</td><td>4922</td><td>-82.0592</td><td>-92.7514</td><td>2018-05-15 10:56:08</td></tr><tr><td>Benin</td><td>3094</td><td>-88.9184</td><td>-50.9383</td><td>2018-03-22 12:31:19</td></tr><tr><td>Aruba</td><td>7539</td><td>-86.4063</td><td>-136.657</td><td>2020-09-05 06:26:33</td></tr><tr><td>Aruba</td><td>10429</td><td>-47.228</td><td>-166.492</td><td>2021-06-06 09:33:56</td></tr><tr><td>Chile</td><td>10154</td><td>89.5057</td><td>-36.5702</td><td>2022-04-06 21:26:45</td></tr><tr><td>Latvia</td><td>7162</td><td>-62.1814</td><td>-161.34</td><td>2017-12-16 03:09:45</td></tr><tr><td>Macao</td><td>10347</td><td>83.9534</td><td>-3.36801</td><td>2021-08-03 13:04:40</td></tr><tr><td>Bhutan</td><td>3878</td><td>36.8347</td><td>-14.0135</td><td>2022-06-06 16:05:13</td></tr><tr><td>Congo</td><td>9929</td><td>-55.2455</td><td>-97.0937</td><td>2022-04-19 14:19:21</td></tr><tr><td>Nauru</td><td>1175</td><td>-75.0051</td><td>-171.034</td><td>2020-09-16 14:16:31</td></tr><tr><td>Congo</td><td>3930</td><td>-20.2154</td><td>-137.478</td><td>2019-02-24 18:54:12</td></tr><tr><td>Greece</td><td>6797</td><td>-3.94057</td><td>150.733</td><td>2022-02-28 10:25:08</td></tr><tr><td>Greece</td><td>4398</td><td>-67.8237</td><td>17.7927</td><td>2018-12-03 03:33:45</td></tr><tr><td>Belize</td><td>7514</td><td>-82.0184</td><td>129.231</td><td>2020-03-07 10:12:53</td></tr><tr><td>Bolivia</td><td>3164</td><td>-44.6381</td><td>82.124</td><td>2018-04-25 18:32:49</td></tr><tr><td>Brazil</td><td>4489</td><td>55.3371</td><td>-29.5545</td><td>2022-03-27 21:48:39</td></tr><tr><td>Armenia</td><td>1263</td><td>-74.225</td><td>-178.59</td><td>2022-07-02 14:50:03</td></tr><tr><td>Israel</td><td>653</td><td>-65.1612</td><td>-167.961</td><td>2020-10-15 07:38:44</td></tr><tr><td>Aruba</td><td>5349</td><td>-53.7253</td><td>-130.413</td><td>2020-10-09 12:55:51</td></tr><tr><td>Aruba</td><td>8731</td><td>-83.104</td><td>-171.302</td><td>2020-07-17 04:39:09</td></tr><tr><td>India</td><td>9672</td><td>79.4658</td><td>-69.4133</td><td>2019-11-03 13:15:52</td></tr><tr><td>Congo</td><td>831</td><td>-43.7816</td><td>-66.1592</td><td>2021-06-23 23:16:10</td></tr><tr><td>Aruba</td><td>3800</td><td>-61.471</td><td>-154.912</td><td>2018-01-27 16:49:07</td></tr><tr><td>Monaco</td><td>772</td><td>25.0708</td><td>-97.1964</td><td>2022-09-22 05:59:55</td></tr><tr><td>Chile</td><td>8300</td><td>-64.5259</td><td>19.7049</td><td>2018-02-14 23:50:10</td></tr><tr><td>Comoros</td><td>7738</td><td>66.8478</td><td>22.777</td><td>2017-11-12 03:45:21</td></tr><tr><td>Romania</td><td>859</td><td>89.8261</td><td>48.2256</td><td>2020-04-07 19:23:24</td></tr><tr><td>Albania</td><td>7641</td><td>-87.2</td><td>-177.109</td><td>2021-09-28 13:56:50</td></tr><tr><td>Egypt</td><td>8081</td><td>-33.8238</td><td>-129.18</td><td>2022-03-25 07:42:29</td></tr><tr><td>Aruba</td><td>4024</td><td>-61.471</td><td>-154.912</td><td>2019-10-19 10:03:03</td></tr><tr><td>Macao</td><td>7116</td><td>-18.3686</td><td>72.4109</td><td>2019-09-16 18:45:41</td></tr><tr><td>Ecuador</td><td>25</td><td>-81.3019</td><td>63.8961</td><td>2021-12-02 12:40:33</td></tr><tr><td>Sudan</td><td>649</td><td>-80.7952</td><td>-22.2518</td><td>2020-10-06 14:24:08</td></tr><tr><td>Cuba</td><td>6496</td><td>-80.9436</td><td>-47.4846</td><td>2020-09-05 18:39:01</td></tr><tr><td>Albania</td><td>4</td><td>-88.8298</td><td>-170.188</td><td>2022-07-07 00:18:41</td></tr><tr><td>Fiji</td><td>3644</td><td>-74.6891</td><td>-179.779</td><td>2021-10-31 17:44:26</td></tr><tr><td>Congo</td><td>6170</td><td>-82.4709</td><td>1.37215</td><td>2020-03-29 23:28:43</td></tr><tr><td>Canada</td><td>91</td><td>-54.5927</td><td>-90.6345</td><td>2021-10-11 12:44:03</td></tr><tr><td>Sweden</td><td>7276</td><td>-58.4743</td><td>21.875</td><td>2018-08-03 05:14:15</td></tr><tr><td>Niger</td><td>4113</td><td>23.4312</td><td>-25.2749</td><td>2021-01-06 06:21:50</td></tr><tr><td>Peru</td><td>10853</td><td>26.2386</td><td>-91.1249</td><td>2019-11-03 03:19:46</td></tr><tr><td>Albania</td><td>7983</td><td>-87.2</td><td>-177.109</td><td>2019-06-21 20:51:41</td></tr><tr><td>Iran</td><td>8889</td><td>-77.4233</td><td>-174.444</td><td>2022-10-09 05:28:20</td></tr><tr><td>Uganda</td><td>1881</td><td>10.6188</td><td>103.231</td><td>2018-03-26 06:09:13</td></tr><tr><td>Romania</td><td>9120</td><td>47.556</td><td>3.55852</td><td>2021-09-30 17:07:00</td></tr><tr><td>Guinea</td><td>2780</td><td>20.7163</td><td>118.461</td><td>2021-03-27 04:26:37</td></tr><tr><td>Nauru</td><td>10247</td><td>48.0954</td><td>99.1652</td><td>2021-10-31 01:04:11</td></tr><tr><td>Malta</td><td>896</td><td>-57.9836</td><td>-31.5589</td><td>2018-10-20 13:23:05</td></tr><tr><td>Aruba</td><td>9054</td><td>-83.104</td><td>-171.302</td><td>2020-05-18 01:31:05</td></tr><tr><td>Congo</td><td>831</td><td>-43.7816</td><td>-66.1592</td><td>2021-06-23 23:16:10</td></tr><tr><td>Angola</td><td>4530</td><td>3.30986</td><td>6.98283</td><td>2021-09-10 22:13:57</td></tr><tr><td>Cuba</td><td>2970</td><td>-75.7236</td><td>-156.761</td><td>2022-06-07 05:58:57</td></tr><tr><td>Tonga</td><td>1014</td><td>81.1477</td><td>69.3538</td><td>2022-02-03 22:05:34</td></tr><tr><td>Egypt</td><td>2698</td><td>-72.7174</td><td>24.169</td><td>2021-11-24 08:33:51</td></tr><tr><td>Albania</td><td>640</td><td>-87.2</td><td>-177.109</td><td>2019-07-12 16:46:03</td></tr><tr><td>Niue</td><td>8448</td><td>-87.5252</td><td>140.842</td><td>2021-09-06 09:41:31</td></tr><tr><td>Korea</td><td>1514</td><td>88.2631</td><td>96.2413</td><td>2022-02-12 20:43:15</td></tr><tr><td>Niue</td><td>9355</td><td>24.2826</td><td>-7.25448</td><td>2021-04-16 13:44:16</td></tr><tr><td>Gabon</td><td>6019</td><td>-12.722</td><td>178.583</td><td>2019-05-23 22:52:10</td></tr><tr><td>Niue</td><td>8089</td><td>-56.4684</td><td>98.8754</td><td>2018-06-01 04:06:02</td></tr><tr><td>Malta</td><td>604</td><td>-85.3088</td><td>130.617</td><td>2020-12-25 06:02:16</td></tr><tr><td>Angola</td><td>307</td><td>26.8027</td><td>43.1265</td><td>2018-01-25 00:55:00</td></tr><tr><td>Japan</td><td>33</td><td>-47.1159</td><td>-118.396</td><td>2018-02-15 21:25:06</td></tr><tr><td>Benin</td><td>8461</td><td>34.7197</td><td>79.8326</td><td>2021-10-15 09:17:14</td></tr><tr><td>Greece</td><td>320</td><td>12.0902</td><td>113.873</td><td>2019-11-13 10:03:45</td></tr><tr><td>Iran</td><td>1789</td><td>25.4676</td><td>-125.575</td><td>2020-09-28 10:16:28</td></tr><tr><td>Samoa</td><td>3266</td><td>43.6716</td><td>160.165</td><td>2019-02-09 14:23:13</td></tr><tr><td>Haiti</td><td>5254</td><td>42.0864</td><td>127.398</td><td>2020-10-16 10:22:44</td></tr><tr><td>Guam</td><td>9778</td><td>85.2343</td><td>126.628</td><td>2020-08-24 14:24:42</td></tr><tr><td>Cuba</td><td>6939</td><td>-83.907</td><td>149.749</td><td>2022-04-06 03:57:03</td></tr><tr><td>Mali</td><td>1901</td><td>48.1778</td><td>124.806</td><td>2018-08-03 19:57:38</td></tr><tr><td>Egypt</td><td>9903</td><td>-73.556</td><td>44.511</td><td>2019-05-12 08:33:31</td></tr><tr><td>Niger</td><td>160</td><td>71.654</td><td>-59.7394</td><td>2019-08-09 06:43:52</td></tr><tr><td>India</td><td>1570</td><td>26.005</td><td>16.2163</td><td>2020-02-28 17:19:16</td></tr><tr><td>Togo</td><td>2498</td><td>61.4706</td><td>-51.05</td><td>2021-04-03 18:10:34</td></tr><tr><td>Ghana</td><td>1362</td><td>48.3704</td><td>92.28</td><td>2022-07-20 05:38:18</td></tr><tr><td>Ghana</td><td>365</td><td>64.583</td><td>15.9277</td><td>2020-07-22 01:36:17</td></tr><tr><td>Aruba</td><td>527</td><td>-75.3</td><td>-169.77</td><td>2020-11-15 18:35:20</td></tr></tbody></table></div>"
      ]
     },
     "metadata": {
      "application/vnd.databricks.v1+output": {
       "addedWidgets": {},
       "aggData": [],
       "aggError": "",
       "aggOverflow": false,
       "aggSchema": [],
       "aggSeriesLimitReached": false,
       "aggType": "",
       "arguments": {},
       "columnCustomDisplayInfos": {},
       "data": [
        [
         "Antarctica (the territory South of 60 deg S)",
         2418,
         -88.4642,
         -171.061,
         "2022-05-27 11:30:59"
        ],
        [
         "Antarctica (the territory South of 60 deg S)",
         5162,
         -71.6607,
         -149.206,
         "2019-09-27 19:06:43"
        ],
        [
         "Antarctica (the territory South of 60 deg S)",
         1335,
         -77.9931,
         -175.682,
         "2022-03-19 17:29:42"
        ],
        [
         "Antarctica (the territory South of 60 deg S)",
         9185,
         -10.3764,
         -22.9809,
         "2019-10-06 18:12:55"
        ],
        [
         "Antarctica (the territory South of 60 deg S)",
         9335,
         -88.4642,
         -171.061,
         "2020-11-14 23:42:22"
        ],
        [
         "Antarctica (the territory South of 60 deg S)",
         6749,
         -88.4642,
         -171.061,
         "2018-04-16 07:39:46"
        ],
        [
         "Saint Vincent and the Grenadines",
         2301,
         13.4683,
         51.7244,
         "2020-11-14 00:25:28"
        ],
        [
         "Holy See (Vatican City State)",
         7180,
         -22.7118,
         -167.739,
         "2018-04-22 21:33:50"
        ],
        [
         "Svalbard & Jan Mayen Islands",
         10204,
         -14.3257,
         26.9087,
         "2020-04-06 02:56:29"
        ],
        [
         "United States Virgin Islands",
         7718,
         -21.4347,
         108.416,
         "2022-08-10 06:57:29"
        ],
        [
         "French Southern Territories",
         6014,
         -26.6026,
         155.206,
         "2019-04-30 12:33:13"
        ],
        [
         "Bouvet Island (Bouvetoya)",
         8677,
         -84.3984,
         -144.933,
         "2020-02-12 23:24:01"
        ],
        [
         "Bouvet Island (Bouvetoya)",
         9270,
         -84.3984,
         -144.933,
         "2022-05-23 03:24:24"
        ],
        [
         "Bouvet Island (Bouvetoya)",
         2465,
         -57.1033,
         -29.6301,
         "2022-07-23 11:15:09"
        ],
        [
         "Bouvet Island (Bouvetoya)",
         3185,
         -88.4607,
         -154.638,
         "2022-06-14 09:39:11"
        ],
        [
         "Bouvet Island (Bouvetoya)",
         8251,
         -0.165781,
         -62.325,
         "2022-02-03 11:05:11"
        ],
        [
         "Slovakia (Slovak Republic)",
         10513,
         25.2981,
         143.877,
         "2021-05-30 01:56:22"
        ],
        [
         "Cocos (Keeling) Islands",
         10794,
         -89.5236,
         -154.567,
         "2022-01-01 02:26:50"
        ],
        [
         "Central African Republic",
         10052,
         14.7195,
         -130.921,
         "2020-01-03 01:10:57"
        ],
        [
         "Bouvet Island (Bouvetoya)",
         6660,
         -54.5264,
         73.4883,
         "2019-02-01 11:00:19"
        ],
        [
         "Saint Pierre and Miquelon",
         7370,
         -24.2107,
         138.463,
         "2018-04-05 08:02:42"
        ],
        [
         "Cocos (Keeling) Islands",
         10020,
         -88.6883,
         -86.0607,
         "2021-08-22 19:54:37"
        ],
        [
         "Bouvet Island (Bouvetoya)",
         9935,
         -88.516,
         -178.811,
         "2022-02-04 05:27:15"
        ],
        [
         "Saint Pierre and Miquelon",
         6740,
         -19.6583,
         90.4449,
         "2022-09-29 22:58:19"
        ],
        [
         "Central African Republic",
         6906,
         -88.5425,
         -157.374,
         "2019-07-12 06:22:04"
        ],
        [
         "Slovakia (Slovak Republic)",
         5084,
         87.8011,
         53.0249,
         "2022-01-06 22:16:07"
        ],
        [
         "Central African Republic",
         2074,
         -52.3213,
         -50.11,
         "2019-11-03 05:41:59"
        ],
        [
         "British Virgin Islands",
         2293,
         -87.7946,
         -159.647,
         "2022-03-21 10:46:53"
        ],
        [
         "British Virgin Islands",
         3824,
         -82.4276,
         -170.019,
         "2018-10-28 19:22:34"
        ],
        [
         "Bosnia and Herzegovina",
         2553,
         -77.5565,
         -152.042,
         "2022-01-05 11:05:38"
        ],
        [
         "British Virgin Islands",
         5395,
         -6.93422,
         -24.9989,
         "2020-08-15 19:30:19"
        ],
        [
         "British Virgin Islands",
         8120,
         -59.1209,
         -93.9878,
         "2022-02-07 04:10:37"
        ],
        [
         "Saint Kitts and Nevis",
         10663,
         -27.3474,
         -162.83,
         "2019-07-25 18:53:51"
        ],
        [
         "Sao Tome and Principe",
         5293,
         -13.1463,
         -25.9649,
         "2019-05-31 20:49:36"
        ],
        [
         "Sao Tome and Principe",
         9426,
         -29.8646,
         -78.1449,
         "2021-06-30 02:14:47"
        ],
        [
         "Libyan Arab Jamahiriya",
         1857,
         21.2186,
         -40.6656,
         "2018-05-10 13:51:40"
        ],
        [
         "Libyan Arab Jamahiriya",
         1170,
         56.1198,
         20.2963,
         "2019-08-07 22:17:07"
        ],
        [
         "British Virgin Islands",
         9550,
         -84.918,
         7.23235,
         "2022-03-23 00:25:45"
        ],
        [
         "Antigua and Barbuda",
         7922,
         -88.0974,
         -172.052,
         "2021-01-27 09:14:19"
        ],
        [
         "Antigua and Barbuda",
         8606,
         -88.0974,
         -172.052,
         "2021-03-28 14:54:07"
        ],
        [
         "Antigua and Barbuda",
         2604,
         -80.8933,
         -104.972,
         "2018-12-01 09:23:35"
        ],
        [
         "Antigua and Barbuda",
         2048,
         -89.4008,
         -142.186,
         "2017-11-20 06:33:50"
        ],
        [
         "Antigua and Barbuda",
         2048,
         -89.4008,
         -142.186,
         "2017-11-20 06:33:50"
        ],
        [
         "Netherlands Antilles",
         603,
         14.0083,
         -141.603,
         "2019-06-25 05:13:01"
        ],
        [
         "Antigua and Barbuda",
         2955,
         23.7768,
         -23.4838,
         "2022-10-11 17:21:06"
        ],
        [
         "Antigua and Barbuda",
         450,
         -81.0108,
         -165.206,
         "2018-09-28 05:43:18"
        ],
        [
         "Antigua and Barbuda",
         310,
         -81.0108,
         -165.206,
         "2021-01-25 22:22:37"
        ],
        [
         "Dominican Republic",
         5911,
         -63.6774,
         -118.407,
         "2020-11-04 03:19:21"
        ],
        [
         "Dominican Republic",
         5317,
         -72.2358,
         -119.449,
         "2021-02-21 20:35:38"
        ],
        [
         "Dominican Republic",
         3884,
         -56.7762,
         -130.132,
         "2021-03-02 08:38:33"
        ],
        [
         "Dominican Republic",
         9979,
         14.9967,
         -120.682,
         "2018-07-18 19:01:46"
        ],
        [
         "Christmas Island",
         10119,
         -74.5431,
         -162.795,
         "2020-10-22 01:59:58"
        ],
        [
         "Trinidad and Tobago",
         2060,
         52.4584,
         68.6527,
         "2020-01-25 13:54:17"
        ],
        [
         "Wallis and Futuna",
         6615,
         -25.2428,
         -32.8992,
         "2022-01-31 18:53:34"
        ],
        [
         "Antigua and Barbuda",
         74,
         -81.0108,
         -165.206,
         "2020-01-29 14:03:35"
        ],
        [
         "Equatorial Guinea",
         10248,
         -31.9615,
         161.151,
         "2019-11-03 15:11:00"
        ],
        [
         "Brunei Darussalam",
         2904,
         -35.6673,
         -173.786,
         "2022-03-17 06:29:33"
        ],
        [
         "Christmas Island",
         1704,
         -56.8702,
         -93.6232,
         "2018-11-29 04:46:39"
        ],
        [
         "Marshall Islands",
         6261,
         -10.3101,
         -109.763,
         "2021-11-11 16:18:45"
        ],
        [
         "Christmas Island",
         10337,
         -42.3069,
         -109.17,
         "2021-10-26 12:09:43"
        ],
        [
         "Solomon Islands",
         10917,
         -86.2944,
         -11.7821,
         "2019-08-18 13:14:30"
        ],
        [
         "Dominican Republic",
         6575,
         81.7192,
         61.5152,
         "2020-12-29 22:59:37"
        ],
        [
         "Equatorial Guinea",
         7271,
         37.8447,
         -98.2389,
         "2022-06-02 07:28:41"
        ],
        [
         "Pitcairn Islands",
         3201,
         34.0532,
         -68.4946,
         "2019-06-25 08:31:37"
        ],
        [
         "Saint Barthelemy",
         3563,
         -77.3153,
         -69.505,
         "2018-09-05 07:40:01"
        ],
        [
         "Solomon Islands",
         6916,
         -73.9714,
         -119.315,
         "2020-04-26 04:12:09"
        ],
        [
         "Saint Barthelemy",
         6747,
         -63.5213,
         141.538,
         "2019-04-23 08:01:32"
        ],
        [
         "French Polynesia",
         8004,
         44.8017,
         -151.313,
         "2017-10-20 09:27:16"
        ],
        [
         "Papua New Guinea",
         7790,
         -43.692,
         64.9839,
         "2018-07-31 08:19:15"
        ],
        [
         "American Samoa",
         9759,
         -77.9744,
         -106.258,
         "2017-12-30 13:05:49"
        ],
        [
         "American Samoa",
         1422,
         -88.5252,
         -172.436,
         "2018-04-30 08:27:21"
        ],
        [
         "American Samoa",
         8312,
         -77.9744,
         -106.258,
         "2021-04-25 15:56:29"
        ],
        [
         "American Samoa",
         1450,
         -88.5252,
         -172.436,
         "2022-01-15 16:04:27"
        ],
        [
         "American Samoa",
         9268,
         -88.5255,
         -161.644,
         "2020-03-16 23:13:51"
        ],
        [
         "American Samoa",
         8886,
         -88.2286,
         -178.919,
         "2022-01-16 10:17:16"
        ],
        [
         "American Samoa",
         4045,
         -89.3099,
         -166.033,
         "2018-03-11 23:01:08"
        ],
        [
         "American Samoa",
         3626,
         -89.3099,
         -166.033,
         "2021-05-31 08:12:00"
        ],
        [
         "Cayman Islands",
         10087,
         38.7097,
         -70.0495,
         "2018-12-10 17:17:32"
        ],
        [
         "American Samoa",
         9407,
         -68.8926,
         -164.968,
         "2022-03-05 17:22:15"
        ],
        [
         "American Samoa",
         3032,
         -66.7253,
         -122.489,
         "2018-04-14 09:28:18"
        ],
        [
         "American Samoa",
         2759,
         -66.7253,
         -122.489,
         "2022-02-20 11:53:20"
        ],
        [
         "Czech Republic",
         9718,
         -76.4505,
         -161.588,
         "2021-11-25 04:36:47"
        ],
        [
         "American Samoa",
         2025,
         -88.5252,
         -172.436,
         "2021-11-08 16:23:39"
        ],
        [
         "American Samoa",
         4251,
         -89.3099,
         -166.033,
         "2018-09-24 23:24:26"
        ],
        [
         "American Samoa",
         9808,
         -77.9744,
         -106.258,
         "2018-02-27 14:43:59"
        ],
        [
         "American Samoa",
         8612,
         -81.8896,
         -153.897,
         "2022-04-09 09:20:15"
        ],
        [
         "American Samoa",
         8700,
         -88.5255,
         -161.644,
         "2019-03-15 15:32:15"
        ],
        [
         "Faroe Islands",
         4505,
         0.0485475,
         -16.5635,
         "2018-06-20 22:11:03"
        ],
        [
         "Cote d'Ivoire",
         2923,
         -84.6302,
         -164.507,
         "2019-09-08 22:53:09"
        ],
        [
         "Czech Republic",
         4862,
         -65.3198,
         -123.45,
         "2021-07-17 05:01:31"
        ],
        [
         "Solomon Islands",
         334,
         -42.0076,
         32.8769,
         "2021-11-06 04:13:00"
        ],
        [
         "Cote d'Ivoire",
         5527,
         -74.0172,
         -109.979,
         "2022-06-03 09:49:02"
        ],
        [
         "American Samoa",
         637,
         -41.2244,
         -158.022,
         "2018-06-06 01:25:58"
        ],
        [
         "Burkina Faso",
         10321,
         -89.1005,
         -151.255,
         "2022-10-09 08:06:50"
        ],
        [
         "American Samoa",
         781,
         -86.4433,
         -178.772,
         "2021-02-27 23:30:48"
        ],
        [
         "American Samoa",
         570,
         -86.4433,
         -178.772,
         "2019-05-21 00:12:37"
        ],
        [
         "French Guiana",
         8304,
         -28.8852,
         -164.87,
         "2019-09-13 04:50:29"
        ],
        [
         "Cote d'Ivoire",
         4315,
         -45.8508,
         66.1003,
         "2019-12-15 03:51:28"
        ],
        [
         "Guinea-Bissau",
         8578,
         34.6427,
         -161.397,
         "2018-01-26 19:27:11"
        ],
        [
         "New Caledonia",
         6844,
         -22.6915,
         5.69245,
         "2021-06-06 21:53:11"
        ],
        [
         "Faroe Islands",
         8978,
         -2.01499,
         3.78198,
         "2017-12-01 13:26:06"
        ],
        [
         "Isle of Man",
         10120,
         -55.1562,
         -122.854,
         "2022-03-10 07:02:32"
        ],
        [
         "Faroe Islands",
         5620,
         -53.6087,
         -121.68,
         "2021-02-18 12:34:44"
        ],
        [
         "French Guiana",
         3660,
         -85.2885,
         6.96501,
         "2018-10-23 21:26:01"
        ],
        [
         "Afghanistan",
         10783,
         -71.4881,
         -117.355,
         "2020-01-28 00:13:29"
        ],
        [
         "French Guiana",
         456,
         -63.2737,
         -163.515,
         "2018-05-17 18:00:51"
        ],
        [
         "Saint Martin",
         1694,
         -32.6594,
         -62.5204,
         "2022-07-14 11:09:10"
        ],
        [
         "Norfolk Island",
         4396,
         15.0521,
         51.8958,
         "2021-03-18 10:05:16"
        ],
        [
         "Liechtenstein",
         7952,
         -38.428,
         -68.0234,
         "2020-11-28 08:11:22"
        ],
        [
         "Guinea-Bissau",
         9530,
         -22.5949,
         -65.081,
         "2021-06-20 12:16:53"
        ],
        [
         "Afghanistan",
         3599,
         -88.5478,
         -174.971,
         "2019-03-03 06:13:41"
        ],
        [
         "Afghanistan",
         7268,
         -88.3754,
         -164.273,
         "2019-12-11 14:05:18"
        ],
        [
         "Afghanistan",
         4256,
         -88.5478,
         -174.971,
         "2018-10-10 17:57:16"
        ],
        [
         "Afghanistan",
         10099,
         -89.4261,
         -171.58,
         "2020-12-24 13:33:03"
        ],
        [
         "Burkina Faso",
         8174,
         -66.6708,
         -110.47,
         "2018-10-20 17:28:23"
        ],
        [
         "Turkmenistan",
         9527,
         -38.4443,
         170.601,
         "2021-11-17 07:50:58"
        ],
        [
         "New Caledonia",
         744,
         -76.8074,
         58.7517,
         "2019-08-28 15:03:13"
        ],
        [
         "Afghanistan",
         7801,
         -75.9161,
         -27.6285,
         "2017-11-18 22:54:58"
        ],
        [
         "Netherlands",
         6717,
         -58.7512,
         -162.324,
         "2022-09-07 16:35:00"
        ],
        [
         "Bangladesh",
         10425,
         -89.4254,
         -161.818,
         "2022-03-30 21:28:40"
        ],
        [
         "Afghanistan",
         4424,
         -85.7989,
         -150.644,
         "2021-05-18 02:48:52"
        ],
        [
         "Afghanistan",
         3831,
         -88.5478,
         -174.971,
         "2018-07-22 21:46:59"
        ],
        [
         "Afghanistan",
         6602,
         -88.0192,
         -169.911,
         "2019-06-06 07:40:48"
        ],
        [
         "South Africa",
         10804,
         69.9913,
         170.373,
         "2020-04-05 04:16:50"
        ],
        [
         "Afghanistan",
         9198,
         -12.1295,
         -29.9199,
         "2019-04-07 22:11:02"
        ],
        [
         "Afghanistan",
         4249,
         -88.5478,
         -174.971,
         "2021-09-01 11:10:02"
        ],
        [
         "El Salvador",
         7961,
         -25.6526,
         -170.677,
         "2018-02-22 05:12:04"
        ],
        [
         "Afghanistan",
         4245,
         -88.5478,
         -174.971,
         "2018-01-24 03:15:26"
        ],
        [
         "Afghanistan",
         3352,
         -84.5322,
         -179.647,
         "2018-11-28 20:01:55"
        ],
        [
         "Afghanistan",
         7285,
         -88.3754,
         -164.273,
         "2018-12-08 09:53:32"
        ],
        [
         "Afghanistan",
         3896,
         -88.5478,
         -174.971,
         "2020-10-01 22:49:42"
        ],
        [
         "Afghanistan",
         8315,
         -87.8179,
         -178.525,
         "2018-10-03 00:29:49"
        ],
        [
         "Azerbaijan",
         5069,
         -63.0063,
         -157.474,
         "2021-03-20 09:32:44"
        ],
        [
         "Mozambique",
         6145,
         -65.9079,
         -143.845,
         "2019-12-05 02:09:44"
        ],
        [
         "Philippines",
         4508,
         69.1858,
         -76.0761,
         "2019-01-04 11:15:27"
        ],
        [
         "Madagascar",
         4988,
         -32.1879,
         -35.2784,
         "2020-07-11 11:01:12"
        ],
        [
         "Isle of Man",
         427,
         -66.9418,
         -30.0087,
         "2020-04-22 03:08:50"
        ],
        [
         "Azerbaijan",
         5758,
         -79.3714,
         -145.242,
         "2018-09-12 15:08:34"
        ],
        [
         "Guadeloupe",
         6558,
         -26.4944,
         -174.009,
         "2019-09-08 03:27:31"
        ],
        [
         "Saint Helena",
         1521,
         24.5192,
         64.9674,
         "2022-10-12 14:03:26"
        ],
        [
         "Bangladesh",
         1814,
         -82.3274,
         -122.209,
         "2020-04-25 10:16:28"
        ],
        [
         "Bangladesh",
         6348,
         -76.8013,
         -28.1091,
         "2019-07-30 01:45:14"
        ],
        [
         "New Zealand",
         8505,
         63.1367,
         -61.1867,
         "2018-07-13 22:57:41"
        ],
        [
         "El Salvador",
         4654,
         -77.816,
         -168.413,
         "2020-06-22 16:43:58"
        ],
        [
         "Guinea-Bissau",
         2315,
         17.806,
         -1.9042,
         "2019-06-05 08:54:04"
        ],
        [
         "Bangladesh",
         6809,
         -89.4254,
         -161.818,
         "2020-04-17 13:20:43"
        ],
        [
         "Luxembourg",
         3504,
         -49.3653,
         -110.641,
         "2021-08-19 00:41:47"
        ],
        [
         "Afghanistan",
         1786,
         33.2467,
         -132.693,
         "2018-05-15 13:12:23"
        ],
        [
         "Cape Verde",
         1308,
         -84.8196,
         -76.5704,
         "2021-05-24 13:17:12"
        ],
        [
         "Costa Rica",
         6276,
         -25.6124,
         -79.4675,
         "2022-04-02 10:32:04"
        ],
        [
         "Turkmenistan",
         4670,
         3.12721,
         24.4592,
         "2021-09-28 23:26:00"
        ],
        [
         "Bangladesh",
         2041,
         -52.0123,
         -148.446,
         "2022-03-01 18:26:27"
        ],
        [
         "Azerbaijan",
         7685,
         -50.8291,
         -40.8846,
         "2020-06-07 21:29:34"
        ],
        [
         "Bangladesh",
         428,
         -83.4105,
         -150.788,
         "2020-09-27 18:46:41"
        ],
        [
         "Australia",
         7343,
         -65.4428,
         -161.684,
         "2018-08-06 12:17:07"
        ],
        [
         "Seychelles",
         8653,
         48.4569,
         -139.658,
         "2022-04-11 18:30:19"
        ],
        [
         "Isle of Man",
         5468,
         -83.544,
         33.9473,
         "2020-05-16 23:17:50"
        ],
        [
         "Argentina",
         8930,
         -89.4739,
         -176.154,
         "2021-09-29 13:25:49"
        ],
        [
         "Australia",
         7294,
         -76.2967,
         -136.501,
         "2018-02-12 08:06:28"
        ],
        [
         "Montserrat",
         771,
         -29.1712,
         -107.111,
         "2018-06-21 08:42:57"
        ],
        [
         "Mauritania",
         4076,
         -67.2157,
         27.8139,
         "2019-06-07 20:13:50"
        ],
        [
         "Gibraltar",
         10509,
         -67.187,
         -24.2977,
         "2019-03-06 12:21:56"
        ],
        [
         "Australia",
         9936,
         -82.1715,
         -147.691,
         "2018-06-30 22:07:13"
        ],
        [
         "Cape Verde",
         6566,
         -39.225,
         -71.6593,
         "2020-11-19 10:06:13"
        ],
        [
         "Isle of Man",
         223,
         1.15509,
         -118.397,
         "2018-12-07 07:30:40"
        ],
        [
         "Argentina",
         2858,
         -65.1565,
         -166.807,
         "2018-05-03 13:27:09"
        ],
        [
         "Nicaragua",
         10673,
         37.1991,
         -32.1713,
         "2021-06-30 08:47:01"
        ],
        [
         "Mozambique",
         480,
         -30.7158,
         -167.461,
         "2019-02-08 03:34:58"
        ],
        [
         "Guatemala",
         5151,
         -47.3372,
         -151.397,
         "2020-07-15 01:42:38"
        ],
        [
         "Cape Verde",
         3184,
         -41.293,
         -171.585,
         "2018-09-25 23:17:46"
        ],
        [
         "Argentina",
         1961,
         -65.3952,
         -175.249,
         "2022-07-29 18:16:50"
        ],
        [
         "Bangladesh",
         680,
         -73.1838,
         -154.293,
         "2019-03-29 23:22:56"
        ],
        [
         "Venezuela",
         3008,
         0.314337,
         -58.7666,
         "2019-07-31 22:36:11"
        ],
        [
         "Puerto Rico",
         4377,
         -55.7837,
         2.5347,
         "2020-07-18 04:12:10"
        ],
        [
         "Argentina",
         5737,
         -80.3487,
         -178.419,
         "2020-04-11 11:27:31"
        ],
        [
         "Indonesia",
         5704,
         -85.9781,
         -172.038,
         "2019-12-31 11:38:29"
        ],
        [
         "Argentina",
         8488,
         -89.4739,
         -176.154,
         "2017-12-20 03:09:10"
        ],
        [
         "Argentina",
         7940,
         -87.7034,
         -178.422,
         "2021-11-29 09:13:08"
        ],
        [
         "Bangladesh",
         1667,
         -83.448,
         -147.771,
         "2022-02-23 16:10:08"
        ],
        [
         "Argentina",
         9146,
         -89.4739,
         -176.154,
         "2018-08-08 16:20:34"
        ],
        [
         "Mozambique",
         7484,
         -6.16637,
         16.2863,
         "2021-12-16 20:21:16"
        ],
        [
         "Singapore",
         10865,
         45.0564,
         -115.624,
         "2019-09-16 04:32:25"
        ],
        [
         "Azerbaijan",
         4857,
         -39.5852,
         -175.96,
         "2022-09-14 00:06:18"
        ],
        [
         "Argentina",
         8854,
         -89.4739,
         -176.154,
         "2021-05-24 12:35:37"
        ],
        [
         "Argentina",
         7862,
         -87.7034,
         -178.422,
         "2019-09-01 19:08:58"
        ],
        [
         "Bulgaria",
         5494,
         -82.6768,
         -129.202,
         "2021-07-21 02:02:35"
        ],
        [
         "Anguilla",
         6063,
         -89.1797,
         -174.015,
         "2021-07-20 09:02:47"
        ],
        [
         "Cambodia",
         3454,
         -0.375174,
         49.8106,
         "2021-07-25 02:20:29"
        ],
        [
         "Jamaica",
         10625,
         -84.4944,
         -81.0613,
         "2018-07-13 11:51:15"
        ],
        [
         "Barbados",
         9875,
         -74.3382,
         -110.484,
         "2020-03-20 13:03:18"
        ],
        [
         "Botswana",
         8887,
         -28.0137,
         -160.708,
         "2021-09-19 05:27:43"
        ],
        [
         "Australia",
         4137,
         -55.3079,
         108.918,
         "2019-06-23 22:16:34"
        ],
        [
         "Argentina",
         1268,
         -41.7803,
         -177.23,
         "2019-07-06 04:10:29"
        ],
        [
         "Maldives",
         5309,
         -89.4194,
         -84.2493,
         "2020-05-04 22:00:32"
        ],
        [
         "Seychelles",
         1137,
         12.2544,
         10.7361,
         "2020-12-26 00:56:04"
        ],
        [
         "Lithuania",
         3716,
         32.6648,
         -16.0578,
         "2018-12-31 20:43:42"
        ],
        [
         "Anguilla",
         3334,
         -89.0609,
         -170.904,
         "2019-09-26 20:13:48"
        ],
        [
         "Bulgaria",
         2565,
         -87.4992,
         -177.336,
         "2022-02-06 13:42:35"
        ],
        [
         "Portugal",
         3351,
         -9.11859,
         -96.9091,
         "2020-09-12 10:34:11"
        ],
        [
         "Barbados",
         3945,
         -66.2816,
         -142.673,
         "2022-04-17 02:01:53"
        ],
        [
         "Anguilla",
         3360,
         -89.0609,
         -170.904,
         "2019-01-26 07:43:57"
        ],
        [
         "Argentina",
         6380,
         -57.051,
         -133.377,
         "2017-12-21 21:46:23"
        ],
        [
         "Bangladesh",
         6299,
         29.1899,
         98.5863,
         "2022-10-05 06:08:34"
        ],
        [
         "Barbados",
         4027,
         -69.7124,
         -165.207,
         "2019-01-23 20:53:22"
        ],
        [
         "Armenia",
         10931,
         -82.9685,
         -178.095,
         "2021-03-20 06:14:31"
        ],
        [
         "Bulgaria",
         7896,
         -64.1231,
         -164.904,
         "2020-06-02 13:49:36"
        ],
        [
         "Slovenia",
         1631,
         -25.8117,
         -69.8618,
         "2020-08-24 10:43:22"
        ],
        [
         "Guatemala",
         7511,
         85.0721,
         -128.483,
         "2019-10-25 19:38:50"
        ],
        [
         "Maldives",
         4780,
         -85.4758,
         -166.172,
         "2020-10-25 17:29:49"
        ],
        [
         "Saudi Arabia",
         5091,
         -19.04,
         3.5168,
         "2020-11-07 10:43:32"
        ],
        [
         "Ethiopia",
         9014,
         -37.2495,
         -118.101,
         "2021-04-20 19:45:15"
        ],
        [
         "Armenia",
         10137,
         -50.8998,
         -112.455,
         "2021-05-03 17:23:40"
        ],
        [
         "Cameroon",
         1179,
         -24.8281,
         -138.237,
         "2018-11-24 03:50:34"
        ],
        [
         "Nicaragua",
         4556,
         69.6624,
         -128.284,
         "2021-01-03 15:01:51"
        ],
        [
         "Swaziland",
         9653,
         -8.51096,
         48.4678,
         "2018-10-04 15:17:55"
        ],
        [
         "Maldives",
         2946,
         -89.8559,
         -170.155,
         "2020-09-26 03:51:16"
        ],
        [
         "Mauritius",
         6957,
         -70.9941,
         168.195,
         "2021-04-25 04:41:38"
        ],
        [
         "Paraguay",
         10585,
         11.1301,
         -96.9338,
         "2018-05-21 07:14:11"
        ],
        [
         "Estonia",
         10677,
         -86.3132,
         -105.805,
         "2018-03-08 17:26:24"
        ],
        [
         "Bahrain",
         10278,
         -52.3365,
         -177.892,
         "2019-07-23 13:35:03"
        ],
        [
         "Botswana",
         2793,
         -84.3867,
         -120.917,
         "2021-03-22 17:39:38"
        ],
        [
         "Bulgaria",
         1832,
         -12.0827,
         -87.0131,
         "2020-08-18 12:11:49"
        ],
        [
         "Cameroon",
         1778,
         -84.7767,
         -155.835,
         "2020-05-23 00:20:16"
        ],
        [
         "Bulgaria",
         4107,
         -54.7673,
         -89.1567,
         "2021-04-21 22:03:54"
        ],
        [
         "Anguilla",
         2288,
         -89.1797,
         -174.015,
         "2019-11-03 06:08:36"
        ],
        [
         "Cambodia",
         1598,
         -55.4968,
         -165.517,
         "2021-05-01 05:03:08"
        ],
        [
         "Cameroon",
         3349,
         -84.7767,
         -155.835,
         "2022-01-09 07:39:35"
        ],
        [
         "Bahamas",
         10715,
         -57.3926,
         -145.818,
         "2022-09-24 08:05:54"
        ],
        [
         "Albania",
         7528,
         -89.9787,
         -173.293,
         "2020-08-28 03:52:47"
        ],
        [
         "Armenia",
         2863,
         -5.34445,
         -177.924,
         "2020-04-27 13:34:16"
        ],
        [
         "Colombia",
         5730,
         -77.015,
         -101.437,
         "2021-04-19 17:37:03"
        ],
        [
         "Albania",
         3089,
         -89.9787,
         -173.293,
         "2018-02-28 05:31:29"
        ],
        [
         "Austria",
         10138,
         -72.142,
         -74.3545,
         "2019-08-03 00:59:29"
        ],
        [
         "Austria",
         9546,
         -70.0295,
         -155.428,
         "2018-02-10 06:16:40"
        ],
        [
         "Albania",
         2411,
         -71.6856,
         -179.126,
         "2020-11-15 17:10:07"
        ],
        [
         "Algeria",
         9590,
         -64.3876,
         -174.281,
         "2019-05-20 19:48:48"
        ],
        [
         "Germany",
         5076,
         -70.7195,
         -91.1935,
         "2019-05-05 16:22:23"
        ],
        [
         "Barbados",
         205,
         -75.8378,
         -163.945,
         "2020-07-08 14:10:38"
        ],
        [
         "Armenia",
         1094,
         -46.7328,
         -124.445,
         "2018-08-19 00:34:20"
        ],
        [
         "Bahrain",
         5630,
         -19.1403,
         -164.987,
         "2019-05-12 14:43:19"
        ],
        [
         "Albania",
         6398,
         -3.29267,
         -179.726,
         "2020-01-19 01:49:05"
        ],
        [
         "Afghanistan",
         46,
         4.21689,
         -145.82,
         "2018-09-15 09:16:57"
        ],
        [
         "Grenada",
         10552,
         32.7568,
         -179.812,
         "2020-08-24 11:39:32"
        ],
        [
         "Andorra",
         1371,
         -89.4584,
         -134.271,
         "2018-08-08 04:41:17"
        ],
        [
         "Andorra",
         9074,
         -84.7363,
         -179.087,
         "2022-04-10 17:06:13"
        ],
        [
         "Finland",
         10370,
         -81.9798,
         -71.932,
         "2018-07-29 15:53:40"
        ],
        [
         "Algeria",
         7234,
         -86.4791,
         -169.547,
         "2017-10-21 14:31:02"
        ],
        [
         "Algeria",
         7874,
         -89.5173,
         -179.689,
         "2022-01-18 08:58:49"
        ],
        [
         "Bahamas",
         10245,
         -50.1835,
         146.776,
         "2020-03-03 15:39:44"
        ],
        [
         "Austria",
         9093,
         -87.7764,
         -151.645,
         "2021-07-24 23:07:06"
        ],
        [
         "Djibouti",
         2788,
         -36.076,
         -94.1779,
         "2019-12-18 03:04:41"
        ],
        [
         "Algeria",
         7733,
         -89.5173,
         -179.689,
         "2022-09-29 10:45:19"
        ],
        [
         "Comoros",
         3750,
         -73.8837,
         -159.054,
         "2022-09-03 23:36:08"
        ],
        [
         "Guatemala",
         778,
         48.2704,
         -123.073,
         "2018-10-19 14:43:39"
        ],
        [
         "Andorra",
         7586,
         -84.7363,
         -179.087,
         "2021-02-07 22:17:31"
        ],
        [
         "Algeria",
         1864,
         -72.3958,
         -164.414,
         "2020-04-24 17:08:13"
        ],
        [
         "Croatia",
         5333,
         -86.6652,
         -173.898,
         "2021-01-20 08:10:08"
        ],
        [
         "Albania",
         1341,
         -89.9787,
         -173.293,
         "2022-08-11 05:25:33"
        ],
        [
         "Austria",
         6250,
         -73.2098,
         -150.856,
         "2020-11-22 18:28:02"
        ],
        [
         "Bahamas",
         4357,
         -75.4909,
         -179.908,
         "2020-03-06 09:56:43"
        ],
        [
         "Bolivia",
         6066,
         -67.7278,
         -174.505,
         "2019-03-04 01:04:11"
        ],
        [
         "Albania",
         1216,
         -69.8134,
         -152.834,
         "2020-07-19 23:57:16"
        ],
        [
         "Namibia",
         7905,
         -47.8121,
         -134.015,
         "2018-11-13 12:39:43"
        ],
        [
         "Finland",
         5488,
         -59.6163,
         -107.324,
         "2021-03-14 05:55:21"
        ],
        [
         "Somalia",
         8341,
         -16.5066,
         -133.185,
         "2022-08-08 05:09:50"
        ],
        [
         "Austria",
         6134,
         -68.8136,
         -128.482,
         "2022-04-03 12:34:59"
        ],
        [
         "Dominica",
         2987,
         83.1466,
         -169.136,
         "2019-12-24 22:33:06"
        ],
        [
         "Colombia",
         5551,
         -67.8095,
         63.2758,
         "2022-03-22 06:04:33"
        ],
        [
         "Martinique",
         8015,
         52.4977,
         94.336,
         "2020-03-13 18:02:39"
        ],
        [
         "Algeria",
         7745,
         -89.5173,
         -179.689,
         "2018-11-01 18:20:28"
        ],
        [
         "Cameroon",
         409,
         -41.5492,
         -152.355,
         "2019-05-28 01:00:22"
        ],
        [
         "Andorra",
         7759,
         -84.7363,
         -179.087,
         "2020-06-14 00:42:47"
        ],
        [
         "Macedonia",
         9425,
         17.5612,
         132.851,
         "2020-07-25 01:35:10"
        ],
        [
         "Malawi",
         10050,
         -62.2012,
         -115.461,
         "2018-09-23 01:54:04"
        ],
        [
         "Hungary",
         4561,
         -63.6785,
         -29.2943,
         "2020-04-05 19:38:48"
        ],
        [
         "Andorra",
         6341,
         -81.6697,
         -149.084,
         "2018-05-22 07:07:24"
        ],
        [
         "Algeria",
         8100,
         -89.5173,
         -179.689,
         "2019-12-03 15:49:59"
        ],
        [
         "Dominica",
         4781,
         -72.0263,
         32.3959,
         "2019-06-30 13:16:16"
        ],
        [
         "Germany",
         5647,
         -82.2521,
         -110.013,
         "2021-05-11 20:20:59"
        ],
        [
         "Austria",
         5166,
         -26.0588,
         -72.2696,
         "2020-01-16 09:56:50"
        ],
        [
         "Albania",
         7240,
         -89.9787,
         -173.293,
         "2022-05-31 21:23:46"
        ],
        [
         "Algeria",
         7670,
         -89.5173,
         -179.689,
         "2021-12-25 18:58:40"
        ],
        [
         "Serbia",
         10160,
         -19.5192,
         -115.211,
         "2019-05-07 04:28:27"
        ],
        [
         "Belgium",
         9734,
         -77.5092,
         -33.8585,
         "2020-07-25 03:43:05"
        ],
        [
         "Algeria",
         9502,
         -71.3184,
         -113.724,
         "2021-06-27 10:58:17"
        ],
        [
         "Albania",
         1341,
         -89.9787,
         -173.293,
         "2022-08-11 05:25:33"
        ],
        [
         "Andorra",
         9155,
         -84.7363,
         -179.087,
         "2021-09-04 20:27:36"
        ],
        [
         "Bermuda",
         7448,
         -48.4974,
         -61.5981,
         "2017-12-20 07:13:19"
        ],
        [
         "Algeria",
         8090,
         -89.5173,
         -179.689,
         "2019-04-18 00:54:25"
        ],
        [
         "Andorra",
         8996,
         -84.7363,
         -179.087,
         "2022-06-12 07:21:52"
        ],
        [
         "Croatia",
         5198,
         -13.8028,
         -160.846,
         "2020-10-21 11:13:53"
        ],
        [
         "Botswana",
         8592,
         -80.8644,
         -133.78,
         "2018-01-18 04:17:50"
        ],
        [
         "Algeria",
         6865,
         -70.3363,
         -42.7487,
         "2020-05-15 16:04:18"
        ],
        [
         "Belarus",
         10538,
         -82.4354,
         59.1527,
         "2018-01-29 03:49:45"
        ],
        [
         "Burundi",
         7467,
         -55.3123,
         -170.812,
         "2020-03-04 20:03:07"
        ],
        [
         "Georgia",
         3813,
         -26.2917,
         -29.1171,
         "2020-06-15 09:37:48"
        ],
        [
         "Algeria",
         8237,
         -89.5173,
         -179.689,
         "2021-07-08 05:55:06"
        ],
        [
         "Andorra",
         7891,
         -89.4584,
         -134.271,
         "2020-05-05 10:10:10"
        ],
        [
         "Andorra",
         9332,
         -73.8268,
         -159.056,
         "2018-09-22 14:44:57"
        ],
        [
         "Bahrain",
         9584,
         -36.8458,
         -116.844,
         "2018-04-23 06:21:51"
        ],
        [
         "Albania",
         5159,
         -62.7034,
         -114.366,
         "2021-08-26 08:03:46"
        ],
        [
         "Albania",
         5759,
         -62.7034,
         -114.366,
         "2019-06-08 02:29:25"
        ],
        [
         "Lithuania",
         9363,
         -74.8991,
         79.285,
         "2018-12-13 03:57:08"
        ],
        [
         "Botswana",
         2172,
         9.88473,
         -160.515,
         "2022-05-19 04:02:52"
        ],
        [
         "Kiribati",
         1026,
         -23.6508,
         14.2803,
         "2021-08-08 06:13:17"
        ],
        [
         "Algeria",
         8449,
         -89.5173,
         -179.689,
         "2022-05-19 10:06:47"
        ],
        [
         "Bolivia",
         6488,
         -87.9073,
         -153.482,
         "2018-05-15 03:11:41"
        ],
        [
         "Botswana",
         1066,
         -54.8354,
         39.6735,
         "2019-08-29 17:31:37"
        ],
        [
         "Albania",
         5230,
         -89.9787,
         -173.293,
         "2022-05-05 00:30:35"
        ],
        [
         "Argentina",
         6181,
         -89.63,
         -179.022,
         "2022-08-18 21:20:00"
        ],
        [
         "Andorra",
         9099,
         -73.8268,
         -159.056,
         "2017-12-24 21:03:56"
        ],
        [
         "Andorra",
         2927,
         -87.1113,
         -159.587,
         "2020-02-14 00:04:58"
        ],
        [
         "Albania",
         1465,
         -69.8134,
         -152.834,
         "2020-11-09 12:15:10"
        ],
        [
         "Bahamas",
         2787,
         -51.5396,
         -105.634,
         "2022-03-05 15:22:38"
        ],
        [
         "Bulgaria",
         7318,
         -30.255,
         -87.2169,
         "2019-10-27 05:28:07"
        ],
        [
         "Algeria",
         7769,
         -89.5173,
         -179.689,
         "2019-05-27 20:40:51"
        ],
        [
         "Tunisia",
         9749,
         -44.6516,
         -5.39518,
         "2022-02-06 22:14:06"
        ],
        [
         "Greenland",
         3710,
         73.3141,
         168.921,
         "2018-11-05 01:18:53"
        ],
        [
         "Venezuela",
         7770,
         50.8676,
         58.8244,
         "2019-10-03 17:28:34"
        ],
        [
         "Argentina",
         9010,
         -89.63,
         -179.022,
         "2018-12-21 18:40:56"
        ],
        [
         "Anguilla",
         1676,
         69.5322,
         -89.9617,
         "2019-01-11 11:53:56"
        ],
        [
         "Maldives",
         1313,
         77.0447,
         61.9119,
         "2018-06-26 02:39:25"
        ],
        [
         "Angola",
         2959,
         -68.0095,
         -157.227,
         "2019-08-19 08:22:02"
        ],
        [
         "Armenia",
         3156,
         -84.738,
         -160.795,
         "2018-01-13 19:33:49"
        ],
        [
         "Armenia",
         719,
         -38.4062,
         -154.323,
         "2018-10-29 04:05:12"
        ],
        [
         "Bermuda",
         2482,
         63.4563,
         -164.709,
         "2019-09-13 08:20:13"
        ],
        [
         "Albania",
         808,
         -71.6856,
         -179.126,
         "2019-01-03 15:43:12"
        ],
        [
         "Anguilla",
         1545,
         -30.18,
         -72.3784,
         "2022-06-17 05:47:12"
        ],
        [
         "Armenia",
         2015,
         -17.629,
         -177.685,
         "2018-09-22 13:52:19"
        ],
        [
         "Algeria",
         7768,
         -88.355,
         -96.0131,
         "2018-05-25 21:34:19"
        ],
        [
         "Turkey",
         3729,
         -24.4793,
         -150.145,
         "2018-01-17 03:43:38"
        ],
        [
         "Andorra",
         159,
         -88.0812,
         -166.603,
         "2017-11-20 21:14:56"
        ],
        [
         "Ecuador",
         7167,
         -55.757,
         -157.572,
         "2019-12-27 20:45:04"
        ],
        [
         "Canada",
         9487,
         -76.9532,
         -113.641,
         "2018-12-18 11:16:52"
        ],
        [
         "Gibraltar",
         327,
         62.3674,
         100.972,
         "2022-02-09 03:03:58"
        ],
        [
         "Tanzania",
         232,
         6.60912,
         -173.609,
         "2019-02-18 03:38:47"
        ],
        [
         "Kuwait",
         8366,
         -38.5318,
         -139.215,
         "2018-03-28 14:17:11"
        ],
        [
         "Australia",
         1967,
         32.74,
         -179.581,
         "2021-02-05 10:37:28"
        ],
        [
         "Canada",
         1699,
         -54.3706,
         -127.783,
         "2022-07-03 13:25:48"
        ],
        [
         "Norway",
         10168,
         -14.7211,
         137.812,
         "2019-10-14 00:19:33"
        ],
        [
         "Moldova",
         995,
         -88.0923,
         -179.319,
         "2022-09-22 12:17:57"
        ],
        [
         "Cyprus",
         5959,
         -44.9016,
         -17.5192,
         "2020-08-10 01:00:33"
        ],
        [
         "Morocco",
         8123,
         80.2593,
         -134.292,
         "2021-08-23 07:31:46"
        ],
        [
         "Denmark",
         1487,
         6.23029,
         -75.5939,
         "2021-05-15 18:23:45"
        ],
        [
         "Ireland",
         6479,
         47.9142,
         -98.4756,
         "2020-10-12 04:13:06"
        ],
        [
         "Georgia",
         4055,
         16.8902,
         -123.373,
         "2021-09-23 06:42:16"
        ],
        [
         "Ecuador",
         7383,
         -55.757,
         -157.572,
         "2022-01-28 15:36:36"
        ],
        [
         "Angola",
         3240,
         -24.2386,
         -165.309,
         "2022-06-10 09:36:51"
        ],
        [
         "Armenia",
         8645,
         -69.636,
         -166.432,
         "2022-06-22 09:32:17"
        ],
        [
         "Aruba",
         10734,
         -51.2174,
         -166.894,
         "2021-08-29 21:27:53"
        ],
        [
         "Bahamas",
         10371,
         44.5638,
         101.933,
         "2017-12-17 12:54:54"
        ],
        [
         "Albania",
         501,
         -88.8298,
         -170.188,
         "2018-11-04 15:42:21"
        ],
        [
         "Bermuda",
         1173,
         -40.9049,
         110.638,
         "2021-07-18 00:52:31"
        ],
        [
         "Lesotho",
         8926,
         43.0814,
         -91.8318,
         "2019-10-28 22:24:31"
        ],
        [
         "Aruba",
         10029,
         -89.8157,
         -173.632,
         "2020-06-17 14:24:19"
        ],
        [
         "Bahamas",
         857,
         -87.0574,
         -164.826,
         "2021-12-28 23:31:43"
        ],
        [
         "Austria",
         4949,
         -26.961,
         -141.787,
         "2021-05-08 19:16:52"
        ],
        [
         "Belize",
         7039,
         -77.5336,
         -161.068,
         "2020-09-20 18:21:13"
        ],
        [
         "Moldova",
         6328,
         29.6234,
         -33.0952,
         "2018-01-06 06:29:33"
        ],
        [
         "Brazil",
         5402,
         -27.1791,
         -159.955,
         "2022-07-22 12:40:32"
        ],
        [
         "Armenia",
         3231,
         -84.738,
         -160.795,
         "2018-10-12 08:31:30"
        ],
        [
         "Namibia",
         10526,
         59.1203,
         94.4738,
         "2018-02-21 14:52:09"
        ],
        [
         "Austria",
         4064,
         -48.6363,
         -177.92,
         "2021-11-19 16:11:38"
        ],
        [
         "Gabon",
         10198,
         -77.4995,
         -65.4026,
         "2022-02-18 20:14:09"
        ],
        [
         "Algeria",
         8162,
         -74.408,
         -178.774,
         "2020-07-22 06:56:03"
        ],
        [
         "Belgium",
         3393,
         -73.6491,
         -136.57,
         "2018-10-10 20:34:11"
        ],
        [
         "Angola",
         2668,
         -24.2386,
         -165.309,
         "2019-11-13 16:18:57"
        ],
        [
         "Romania",
         7950,
         76.0609,
         -60.6718,
         "2017-10-23 12:34:22"
        ],
        [
         "Bermuda",
         10600,
         68.9357,
         122.338,
         "2020-12-31 07:05:04"
        ],
        [
         "Monaco",
         10862,
         23.1361,
         -63.9384,
         "2017-11-30 01:25:50"
        ],
        [
         "Nigeria",
         2095,
         27.5545,
         -5.30833,
         "2022-09-13 08:48:27"
        ],
        [
         "Algeria",
         9904,
         -74.7055,
         -177.87,
         "2018-07-27 09:36:32"
        ],
        [
         "Angola",
         3562,
         -87.3742,
         -177.647,
         "2022-04-08 10:19:47"
        ],
        [
         "Kuwait",
         2422,
         -31.8074,
         -169.911,
         "2022-01-11 01:24:46"
        ],
        [
         "Canada",
         7262,
         -84.0716,
         -6.14558,
         "2020-01-29 23:37:22"
        ],
        [
         "Algeria",
         8511,
         86.5503,
         -175.518,
         "2021-11-09 14:40:16"
        ],
        [
         "Denmark",
         1487,
         6.23029,
         -75.5939,
         "2021-05-15 18:23:45"
        ],
        [
         "Andorra",
         616,
         -77.6883,
         -145.539,
         "2017-10-25 11:00:30"
        ],
        [
         "Armenia",
         865,
         -88.9652,
         -164.795,
         "2019-12-22 03:54:25"
        ],
        [
         "Sudan",
         7554,
         -51.2172,
         -77.9768,
         "2019-03-20 03:15:07"
        ],
        [
         "Aruba",
         4913,
         -84.3768,
         -157.544,
         "2019-03-08 06:45:39"
        ],
        [
         "Aruba",
         7166,
         -86.4063,
         -136.657,
         "2022-07-25 03:07:37"
        ],
        [
         "Bhutan",
         3419,
         7.60293,
         -108.979,
         "2021-12-20 05:01:54"
        ],
        [
         "Algeria",
         1555,
         -1.7046,
         -55.332,
         "2017-12-24 18:41:23"
        ],
        [
         "Lesotho",
         552,
         -80.6043,
         31.9601,
         "2022-03-14 05:12:07"
        ],
        [
         "Tunisia",
         2637,
         3.0033,
         -96.4904,
         "2022-10-15 13:25:51"
        ],
        [
         "Finland",
         1198,
         6.37207,
         -150.73,
         "2020-01-24 23:42:18"
        ],
        [
         "Aruba",
         7510,
         -79.9828,
         -172.235,
         "2021-12-21 01:37:25"
        ],
        [
         "Aruba",
         1706,
         -71.5025,
         -179.257,
         "2017-11-24 23:36:46"
        ],
        [
         "Israel",
         7832,
         -53.8629,
         91.8136,
         "2022-02-14 13:47:24"
        ],
        [
         "Kuwait",
         3011,
         -76.4675,
         28.8054,
         "2019-12-17 17:46:18"
        ],
        [
         "Panama",
         9475,
         -84.1953,
         164.362,
         "2019-03-19 08:26:35"
        ],
        [
         "Poland",
         4996,
         39.9625,
         -118.569,
         "2019-04-16 23:49:42"
        ],
        [
         "Kenya",
         3145,
         -57.5981,
         -19.8932,
         "2022-06-18 22:46:26"
        ],
        [
         "Jamaica",
         5742,
         -73.4926,
         -61.56,
         "2020-09-02 01:40:18"
        ],
        [
         "Samoa",
         10837,
         86.6387,
         -26.2408,
         "2018-09-27 07:12:31"
        ],
        [
         "Tuvalu",
         8745,
         31.6701,
         -59.7391,
         "2020-10-28 03:45:33"
        ],
        [
         "Aruba",
         2577,
         -71.5025,
         -179.257,
         "2019-08-01 05:45:51"
        ],
        [
         "Bolivia",
         1599,
         86.0967,
         111.323,
         "2019-02-05 14:58:20"
        ],
        [
         "Bermuda",
         2893,
         -68.5399,
         -28.38,
         "2018-03-05 04:33:55"
        ],
        [
         "Benin",
         10022,
         70.5626,
         -89.4526,
         "2018-12-17 20:26:14"
        ],
        [
         "Namibia",
         4513,
         22.2314,
         144.214,
         "2022-04-11 11:05:13"
        ],
        [
         "Vietnam",
         7850,
         26.5208,
         160.699,
         "2022-04-09 15:06:01"
        ],
        [
         "Egypt",
         6652,
         -78.2534,
         -170.668,
         "2018-11-28 08:21:12"
        ],
        [
         "Benin",
         9218,
         -70.6524,
         -171.552,
         "2020-05-07 21:30:58"
        ],
        [
         "Brazil",
         2343,
         60.6981,
         -79.5945,
         "2019-10-15 13:21:45"
        ],
        [
         "Bhutan",
         4765,
         56.1765,
         -60.3563,
         "2020-06-09 00:49:44"
        ],
        [
         "Latvia",
         1254,
         76.9735,
         -178.147,
         "2021-06-08 18:40:59"
        ],
        [
         "Guinea",
         2011,
         18.6922,
         -80.0756,
         "2020-12-14 18:11:42"
        ],
        [
         "Belize",
         3436,
         -35.194,
         -115.253,
         "2022-05-31 23:26:11"
        ],
        [
         "Grenada",
         5130,
         -86.6858,
         -160.5,
         "2020-10-24 23:43:15"
        ],
        [
         "Estonia",
         1675,
         13.8054,
         13.0336,
         "2022-06-15 03:39:59"
        ],
        [
         "Panama",
         9475,
         -84.1953,
         164.362,
         "2019-03-19 08:26:35"
        ],
        [
         "Greece",
         5724,
         47.1902,
         -10.6517,
         "2018-01-19 07:36:12"
        ],
        [
         "Aruba",
         6976,
         -74.1238,
         -64.0839,
         "2020-09-14 04:55:37"
        ],
        [
         "India",
         2810,
         -85.4298,
         -49.5099,
         "2019-12-29 14:34:40"
        ],
        [
         "France",
         1139,
         -68.4636,
         112.577,
         "2018-05-06 18:02:56"
        ],
        [
         "Aruba",
         7437,
         -86.4063,
         -136.657,
         "2021-10-27 06:00:23"
        ],
        [
         "Armenia",
         1503,
         -74.225,
         -178.59,
         "2019-08-18 05:34:11"
        ],
        [
         "Latvia",
         7162,
         -62.1814,
         -161.34,
         "2017-12-16 03:09:45"
        ],
        [
         "Ecuador",
         2975,
         42.4695,
         101.315,
         "2021-08-06 01:48:36"
        ],
        [
         "Aruba",
         10883,
         -53.423,
         -59.3144,
         "2020-07-25 13:21:12"
        ],
        [
         "Uganda",
         1643,
         52.0489,
         -63.5087,
         "2018-08-17 13:25:13"
        ],
        [
         "Uganda",
         1611,
         15.9313,
         -117.052,
         "2018-04-09 02:43:42"
        ],
        [
         "Congo",
         1024,
         -35.9989,
         -107.383,
         "2020-03-11 02:37:45"
        ],
        [
         "Aruba",
         4922,
         -82.0592,
         -92.7514,
         "2018-05-15 10:56:08"
        ],
        [
         "Benin",
         3094,
         -88.9184,
         -50.9383,
         "2018-03-22 12:31:19"
        ],
        [
         "Aruba",
         7539,
         -86.4063,
         -136.657,
         "2020-09-05 06:26:33"
        ],
        [
         "Aruba",
         10429,
         -47.228,
         -166.492,
         "2021-06-06 09:33:56"
        ],
        [
         "Chile",
         10154,
         89.5057,
         -36.5702,
         "2022-04-06 21:26:45"
        ],
        [
         "Latvia",
         7162,
         -62.1814,
         -161.34,
         "2017-12-16 03:09:45"
        ],
        [
         "Macao",
         10347,
         83.9534,
         -3.36801,
         "2021-08-03 13:04:40"
        ],
        [
         "Bhutan",
         3878,
         36.8347,
         -14.0135,
         "2022-06-06 16:05:13"
        ],
        [
         "Congo",
         9929,
         -55.2455,
         -97.0937,
         "2022-04-19 14:19:21"
        ],
        [
         "Nauru",
         1175,
         -75.0051,
         -171.034,
         "2020-09-16 14:16:31"
        ],
        [
         "Congo",
         3930,
         -20.2154,
         -137.478,
         "2019-02-24 18:54:12"
        ],
        [
         "Greece",
         6797,
         -3.94057,
         150.733,
         "2022-02-28 10:25:08"
        ],
        [
         "Greece",
         4398,
         -67.8237,
         17.7927,
         "2018-12-03 03:33:45"
        ],
        [
         "Belize",
         7514,
         -82.0184,
         129.231,
         "2020-03-07 10:12:53"
        ],
        [
         "Bolivia",
         3164,
         -44.6381,
         82.124,
         "2018-04-25 18:32:49"
        ],
        [
         "Brazil",
         4489,
         55.3371,
         -29.5545,
         "2022-03-27 21:48:39"
        ],
        [
         "Armenia",
         1263,
         -74.225,
         -178.59,
         "2022-07-02 14:50:03"
        ],
        [
         "Israel",
         653,
         -65.1612,
         -167.961,
         "2020-10-15 07:38:44"
        ],
        [
         "Aruba",
         5349,
         -53.7253,
         -130.413,
         "2020-10-09 12:55:51"
        ],
        [
         "Aruba",
         8731,
         -83.104,
         -171.302,
         "2020-07-17 04:39:09"
        ],
        [
         "India",
         9672,
         79.4658,
         -69.4133,
         "2019-11-03 13:15:52"
        ],
        [
         "Congo",
         831,
         -43.7816,
         -66.1592,
         "2021-06-23 23:16:10"
        ],
        [
         "Aruba",
         3800,
         -61.471,
         -154.912,
         "2018-01-27 16:49:07"
        ],
        [
         "Monaco",
         772,
         25.0708,
         -97.1964,
         "2022-09-22 05:59:55"
        ],
        [
         "Chile",
         8300,
         -64.5259,
         19.7049,
         "2018-02-14 23:50:10"
        ],
        [
         "Comoros",
         7738,
         66.8478,
         22.777,
         "2017-11-12 03:45:21"
        ],
        [
         "Romania",
         859,
         89.8261,
         48.2256,
         "2020-04-07 19:23:24"
        ],
        [
         "Albania",
         7641,
         -87.2,
         -177.109,
         "2021-09-28 13:56:50"
        ],
        [
         "Egypt",
         8081,
         -33.8238,
         -129.18,
         "2022-03-25 07:42:29"
        ],
        [
         "Aruba",
         4024,
         -61.471,
         -154.912,
         "2019-10-19 10:03:03"
        ],
        [
         "Macao",
         7116,
         -18.3686,
         72.4109,
         "2019-09-16 18:45:41"
        ],
        [
         "Ecuador",
         25,
         -81.3019,
         63.8961,
         "2021-12-02 12:40:33"
        ],
        [
         "Sudan",
         649,
         -80.7952,
         -22.2518,
         "2020-10-06 14:24:08"
        ],
        [
         "Cuba",
         6496,
         -80.9436,
         -47.4846,
         "2020-09-05 18:39:01"
        ],
        [
         "Albania",
         4,
         -88.8298,
         -170.188,
         "2022-07-07 00:18:41"
        ],
        [
         "Fiji",
         3644,
         -74.6891,
         -179.779,
         "2021-10-31 17:44:26"
        ],
        [
         "Congo",
         6170,
         -82.4709,
         1.37215,
         "2020-03-29 23:28:43"
        ],
        [
         "Canada",
         91,
         -54.5927,
         -90.6345,
         "2021-10-11 12:44:03"
        ],
        [
         "Sweden",
         7276,
         -58.4743,
         21.875,
         "2018-08-03 05:14:15"
        ],
        [
         "Niger",
         4113,
         23.4312,
         -25.2749,
         "2021-01-06 06:21:50"
        ],
        [
         "Peru",
         10853,
         26.2386,
         -91.1249,
         "2019-11-03 03:19:46"
        ],
        [
         "Albania",
         7983,
         -87.2,
         -177.109,
         "2019-06-21 20:51:41"
        ],
        [
         "Iran",
         8889,
         -77.4233,
         -174.444,
         "2022-10-09 05:28:20"
        ],
        [
         "Uganda",
         1881,
         10.6188,
         103.231,
         "2018-03-26 06:09:13"
        ],
        [
         "Romania",
         9120,
         47.556,
         3.55852,
         "2021-09-30 17:07:00"
        ],
        [
         "Guinea",
         2780,
         20.7163,
         118.461,
         "2021-03-27 04:26:37"
        ],
        [
         "Nauru",
         10247,
         48.0954,
         99.1652,
         "2021-10-31 01:04:11"
        ],
        [
         "Malta",
         896,
         -57.9836,
         -31.5589,
         "2018-10-20 13:23:05"
        ],
        [
         "Aruba",
         9054,
         -83.104,
         -171.302,
         "2020-05-18 01:31:05"
        ],
        [
         "Congo",
         831,
         -43.7816,
         -66.1592,
         "2021-06-23 23:16:10"
        ],
        [
         "Angola",
         4530,
         3.30986,
         6.98283,
         "2021-09-10 22:13:57"
        ],
        [
         "Cuba",
         2970,
         -75.7236,
         -156.761,
         "2022-06-07 05:58:57"
        ],
        [
         "Tonga",
         1014,
         81.1477,
         69.3538,
         "2022-02-03 22:05:34"
        ],
        [
         "Egypt",
         2698,
         -72.7174,
         24.169,
         "2021-11-24 08:33:51"
        ],
        [
         "Albania",
         640,
         -87.2,
         -177.109,
         "2019-07-12 16:46:03"
        ],
        [
         "Niue",
         8448,
         -87.5252,
         140.842,
         "2021-09-06 09:41:31"
        ],
        [
         "Korea",
         1514,
         88.2631,
         96.2413,
         "2022-02-12 20:43:15"
        ],
        [
         "Niue",
         9355,
         24.2826,
         -7.25448,
         "2021-04-16 13:44:16"
        ],
        [
         "Gabon",
         6019,
         -12.722,
         178.583,
         "2019-05-23 22:52:10"
        ],
        [
         "Niue",
         8089,
         -56.4684,
         98.8754,
         "2018-06-01 04:06:02"
        ],
        [
         "Malta",
         604,
         -85.3088,
         130.617,
         "2020-12-25 06:02:16"
        ],
        [
         "Angola",
         307,
         26.8027,
         43.1265,
         "2018-01-25 00:55:00"
        ],
        [
         "Japan",
         33,
         -47.1159,
         -118.396,
         "2018-02-15 21:25:06"
        ],
        [
         "Benin",
         8461,
         34.7197,
         79.8326,
         "2021-10-15 09:17:14"
        ],
        [
         "Greece",
         320,
         12.0902,
         113.873,
         "2019-11-13 10:03:45"
        ],
        [
         "Iran",
         1789,
         25.4676,
         -125.575,
         "2020-09-28 10:16:28"
        ],
        [
         "Samoa",
         3266,
         43.6716,
         160.165,
         "2019-02-09 14:23:13"
        ],
        [
         "Haiti",
         5254,
         42.0864,
         127.398,
         "2020-10-16 10:22:44"
        ],
        [
         "Guam",
         9778,
         85.2343,
         126.628,
         "2020-08-24 14:24:42"
        ],
        [
         "Cuba",
         6939,
         -83.907,
         149.749,
         "2022-04-06 03:57:03"
        ],
        [
         "Mali",
         1901,
         48.1778,
         124.806,
         "2018-08-03 19:57:38"
        ],
        [
         "Egypt",
         9903,
         -73.556,
         44.511,
         "2019-05-12 08:33:31"
        ],
        [
         "Niger",
         160,
         71.654,
         -59.7394,
         "2019-08-09 06:43:52"
        ],
        [
         "India",
         1570,
         26.005,
         16.2163,
         "2020-02-28 17:19:16"
        ],
        [
         "Togo",
         2498,
         61.4706,
         -51.05,
         "2021-04-03 18:10:34"
        ],
        [
         "Ghana",
         1362,
         48.3704,
         92.28,
         "2022-07-20 05:38:18"
        ],
        [
         "Ghana",
         365,
         64.583,
         15.9277,
         "2020-07-22 01:36:17"
        ],
        [
         "Aruba",
         527,
         -75.3,
         -169.77,
         "2020-11-15 18:35:20"
        ]
       ],
       "datasetInfos": [],
       "dbfsResultPath": null,
       "isJsonSchema": true,
       "metadata": {},
       "overflow": false,
       "plotOptions": {
        "customPlotOptions": {},
        "displayType": "table",
        "pivotAggregation": null,
        "pivotColumns": null,
        "xColumns": null,
        "yColumns": null
       },
       "removedWidgets": [],
       "schema": [
        {
         "metadata": "{}",
         "name": "country",
         "type": "\"string\""
        },
        {
         "metadata": "{}",
         "name": "ind",
         "type": "\"long\""
        },
        {
         "metadata": "{}",
         "name": "latitude",
         "type": "\"double\""
        },
        {
         "metadata": "{}",
         "name": "longitude",
         "type": "\"double\""
        },
        {
         "metadata": "{}",
         "name": "timestamp",
         "type": "\"string\""
        }
       ],
       "type": "table"
      }
     },
     "output_type": "display_data"
    }
   ],
   "source": [
    "# File location and type\n",
    "# Asterisk(*) indicates reading all the content of the specified file that have .json extension\n",
    "file_location = \"/mnt/pint_mount_name/topics/0ac1babf620d.geo/partition=0/*.json\" \n",
    "file_type = \"json\"\n",
    "# Ask Spark to infer the schema\n",
    "infer_schema = \"true\"\n",
    "# Read in JSONs from mounted S3 bucket\n",
    "df_geo = spark.read.format(file_type) \\\n",
    ".option(\"inferSchema\", infer_schema) \\\n",
    ".load(file_location)\n",
    "# Display Spark dataframe to check its content\n",
    "display(df_geo)"
   ]
  }
 ],
 "metadata": {
  "application/vnd.databricks.v1+notebook": {
   "dashboards": [],
   "language": "python",
   "notebookMetadata": {
    "pythonIndentUnit": 4
   },
   "notebookName": "geo_df Notebook 2024-01-02 15:52:53",
   "widgets": {}
  }
 },
 "nbformat": 4,
 "nbformat_minor": 0
}
